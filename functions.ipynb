{
 "cells": [
  {
   "cell_type": "markdown",
   "id": "ce27c7cb-acb6-4da5-8186-55d7a19032a7",
   "metadata": {},
   "source": [
    "FUNCTIONS"
   ]
  },
  {
   "cell_type": "code",
   "execution_count": 1,
   "id": "ba5f9e54-e20d-4990-bed9-32623e66e1fb",
   "metadata": {},
   "outputs": [
    {
     "name": "stdout",
     "output_type": "stream",
     "text": [
      "Distance : 8815.47 km\n"
     ]
    }
   ],
   "source": [
    "from math import radians,sin,cos,sqrt,atan2\n",
    "\n",
    "def haversine(lat1,lon1,lat2,lon2):\n",
    "    R=6371.0 #earth radius in kilometres\n",
    "    dlat=radians(lat2-lat1)\n",
    "    dlon=radians(lon2-lon1)\n",
    "    a=(\n",
    "        sin(dlat / 2) **2 +\n",
    "        cos(radians(lat1)) * cos(radians(lat2)) *sin(dlon /2) **2 \n",
    "    )\n",
    "    c=2 * atan2(sqrt(a), sqrt(1-a))\n",
    "    distance=R*c\n",
    "    return distance\n",
    "\n",
    "\n",
    "distance=haversine(35.6895, 139.6917, 34.0522, -118.2437)\n",
    "print(f\"Distance : {distance:.2f} km\")"
   ]
  },
  {
   "cell_type": "code",
   "execution_count": 2,
   "id": "91c339b2-d35a-4e5a-a143-931a8fc48b19",
   "metadata": {},
   "outputs": [
    {
     "name": "stdout",
     "output_type": "stream",
     "text": [
      "Jogoo road is 4.73 km lomg\n"
     ]
    }
   ],
   "source": [
    "points=haversine(-1.291829, 36.841125, -1.296344, 36.883449)\n",
    "print(f\"Jogoo road is {points:.2f} km lomg\")"
   ]
  },
  {
   "cell_type": "markdown",
   "id": "e91051be-484a-4e65-ae34-31c73710a85c",
   "metadata": {},
   "source": [
    "CLASSES"
   ]
  },
  {
   "cell_type": "code",
   "execution_count": 8,
   "id": "b2b5e458-419f-4706-9b1e-4f141c389fb3",
   "metadata": {},
   "outputs": [
    {
     "name": "stdout",
     "output_type": "stream",
     "text": [
      "the distance from stadi to dohny: 4.73 km\n"
     ]
    }
   ],
   "source": [
    "class Point:\n",
    "    def __init__(self,latitude,longitude,name=None):\n",
    "        self.latitude=latitude\n",
    "        self.longitude=longitude\n",
    "        self.name=name\n",
    "    def distance_to(self, other_point):\n",
    "        return haversine(\n",
    "            self.latitude, self.longitude, other_point.latitude, other_point.longitude\n",
    "        )\n",
    "\n",
    "    def __str__(self):\n",
    "        return f\"{self.name or 'Point'} ({self.latitude},{self.longitude})\"\n",
    "\n",
    "\n",
    "#example usage\n",
    "\n",
    "point1=Point(-1.291829, 36.841125,'stadi')\n",
    "point2=Point( -1.296344, 36.883449,'dohny')\n",
    "print(f\"the distance from {point1.name} to {point2.name}: {point1.distance_to(point2):.2f} km\")"
   ]
  },
  {
   "cell_type": "code",
   "execution_count": null,
   "id": "7a21fe24-3daa-4622-b885-2a151a8c66f2",
   "metadata": {},
   "outputs": [],
   "source": []
  }
 ],
 "metadata": {
  "kernelspec": {
   "display_name": "Python 3 (ipykernel)",
   "language": "python",
   "name": "python3"
  },
  "language_info": {
   "codemirror_mode": {
    "name": "ipython",
    "version": 3
   },
   "file_extension": ".py",
   "mimetype": "text/x-python",
   "name": "python",
   "nbconvert_exporter": "python",
   "pygments_lexer": "ipython3",
   "version": "3.10.12"
  }
 },
 "nbformat": 4,
 "nbformat_minor": 5
}
