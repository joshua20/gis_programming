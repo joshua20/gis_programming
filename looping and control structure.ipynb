{
 "cells": [
  {
   "cell_type": "markdown",
   "id": "616b2c20-8b2a-40ab-8d49-d882d756c71a",
   "metadata": {},
   "source": [
    "FOR LOOP"
   ]
  },
  {
   "cell_type": "code",
   "execution_count": 3,
   "id": "53268645-411d-426c-8dc1-dc6f9b1258ac",
   "metadata": {},
   "outputs": [],
   "source": [
    "coordinates = [\n",
    "    (35.6895, 139.6917),\n",
    "    (34.0522, -118.2437),\n",
    "    (51.5074, -0.1278),\n",
    "] "
   ]
  },
  {
   "cell_type": "code",
   "execution_count": 4,
   "id": "e50b8f1a-9f2f-4dce-83b5-48d297d2a404",
   "metadata": {},
   "outputs": [
    {
     "name": "stdout",
     "output_type": "stream",
     "text": [
      " latitude: 35.6895, longitude: 139.6917\n",
      " latitude: 34.0522, longitude: -118.2437\n",
      " latitude: 51.5074, longitude: -0.1278\n"
     ]
    }
   ],
   "source": [
    "for lat,lon in coordinates:\n",
    "    print(f\" latitude: {lat}, longitude: {lon}\")"
   ]
  },
  {
   "cell_type": "markdown",
   "id": "0b3115f3-aa58-4a5d-8990-3b6e157956bc",
   "metadata": {},
   "source": [
    "WHILE LOOP"
   ]
  },
  {
   "cell_type": "code",
   "execution_count": 7,
   "id": "54af3d15-39df-46bb-8c50-ca9e05739017",
   "metadata": {},
   "outputs": [
    {
     "name": "stdout",
     "output_type": "stream",
     "text": [
      "printing: (35.6895,139.6917)\n",
      "printing: (34.0522,-118.2437)\n",
      "printing: (51.5074,-0.1278)\n"
     ]
    }
   ],
   "source": [
    "counter=0\n",
    "while counter < len(coordinates):\n",
    "    lat,lon= coordinates[counter]\n",
    "    print(f\"printing: ({lat},{lon})\")\n",
    "    counter+=1\n",
    "    "
   ]
  },
  {
   "cell_type": "code",
   "execution_count": null,
   "id": "77a99836-bfe7-4bcf-8426-dd4c93cc14ab",
   "metadata": {},
   "outputs": [],
   "source": []
  }
 ],
 "metadata": {
  "kernelspec": {
   "display_name": "Python 3 (ipykernel)",
   "language": "python",
   "name": "python3"
  },
  "language_info": {
   "codemirror_mode": {
    "name": "ipython",
    "version": 3
   },
   "file_extension": ".py",
   "mimetype": "text/x-python",
   "name": "python",
   "nbconvert_exporter": "python",
   "pygments_lexer": "ipython3",
   "version": "3.10.12"
  }
 },
 "nbformat": 4,
 "nbformat_minor": 5
}
