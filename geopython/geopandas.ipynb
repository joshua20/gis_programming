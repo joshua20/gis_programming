{
 "cells": [
  {
   "cell_type": "code",
   "execution_count": 1,
   "id": "7d096c51-87eb-46b9-bc75-f643a47c3c8b",
   "metadata": {},
   "outputs": [],
   "source": [
    "#install geemap and leafmap"
   ]
  },
  {
   "cell_type": "code",
   "execution_count": 2,
   "id": "29e40f13-b340-4d26-9540-87ee88c9a766",
   "metadata": {},
   "outputs": [
    {
     "name": "stdout",
     "output_type": "stream",
     "text": [
      "\u001b[1;32mInstalling geemap\u001b[0m\u001b[1;33m...\u001b[0m\n",
      "\u001b[?25lResolving geemap\u001b[33m...\u001b[0m\n",
      "\u001b[2K\u001b[1mAdded \u001b[0m\u001b[1;32mgeemap\u001b[0m to Pipfile's \u001b[1;33m[\u001b[0m\u001b[33mpackages\u001b[0m\u001b[1;33m]\u001b[0m \u001b[33m...\u001b[0m\n",
      "\u001b[2K✔ Installation Succeeded...\n",
      "\u001b[2K\u001b[32m⠋\u001b[0m Installing geemap...\n",
      "\u001b[1A\u001b[2K\u001b[1;32mInstalling leafmap\u001b[0m\u001b[1;33m...\u001b[0m\n",
      "\u001b[?25lResolving leafmap\u001b[33m...\u001b[0m\n",
      "\u001b[2K✔ Installation Succeeded\n",
      "\u001b[2K\u001b[32m⠋\u001b[0m Installing leafmap...\n",
      "\u001b[1A\u001b[2K\u001b[1;33mPipfile.lock \u001b[0m\u001b[1;33m(\u001b[0m\u001b[1;33m934e2d\u001b[0m\u001b[1;33m)\u001b[0m\u001b[1;33m out of date, updating to \u001b[0m\u001b[1;33m(\u001b[0m\u001b[1;33m8eeff4\u001b[0m\u001b[1;33m)\u001b[0m\u001b[1;33m...\u001b[0m\n",
      "Locking\u001b[0m \u001b[33m[packages]\u001b[0m dependencies...\u001b[0m\n",
      "\u001b[?25lBuilding requirements\u001b[33m...\u001b[0m\n",
      "\u001b[2KResolving dependencies\u001b[33m...\u001b[0m\n",
      "\u001b[2K✔ Success! Locking...\n",
      "\u001b[2K\u001b[32m⠇\u001b[0m Locking...\n",
      "\u001b[1A\u001b[2KLocking\u001b[0m \u001b[33m[dev-packages]\u001b[0m dependencies...\u001b[0m\n",
      "\u001b[1mUpdated Pipfile.lock (ec76f5743dcc008fbf126977a1b617eb77f3c33f70aed784ab58a45cf28eeff4)!\u001b[0m\n",
      "\u001b[1mInstalling dependencies from Pipfile.lock \u001b[0m\u001b[1m(\u001b[0m\u001b[1m8eeff4\u001b[0m\u001b[1m)\u001b[0m\u001b[1;33m...\u001b[0m\n"
     ]
    }
   ],
   "source": [
    "! pipenv install geemap leafmap"
   ]
  },
  {
   "cell_type": "code",
   "execution_count": 6,
   "id": "1d6c68c7-fa44-456e-953d-62f922ff5bec",
   "metadata": {},
   "outputs": [
    {
     "data": {
      "application/vnd.jupyter.widget-view+json": {
       "model_id": "856ecd7f4f70464b85672042d01a6a64",
       "version_major": 2,
       "version_minor": 0
      },
      "text/plain": [
       "Map(center=[20, 0], controls=(ZoomControl(options=['position', 'zoom_in_text', 'zoom_in_title', 'zoom_out_text…"
      ]
     },
     "execution_count": 6,
     "metadata": {},
     "output_type": "execute_result"
    }
   ],
   "source": [
    "#test\n",
    "import leafmap\n",
    "m=leafmap.Map()\n",
    "m"
   ]
  },
  {
   "cell_type": "code",
   "execution_count": 1,
   "id": "50aa333c-b09c-483f-b847-8bd2190dc393",
   "metadata": {},
   "outputs": [
    {
     "name": "stdout",
     "output_type": "stream",
     "text": [
      "\u001b[1;32mInstalling geopandas\u001b[0m\u001b[1;33m...\u001b[0m\n",
      "\u001b[?25lResolving geopandas\u001b[33m...\u001b[0m\n",
      "\u001b[2K\u001b[1mAdded \u001b[0m\u001b[1;32mgeopandas\u001b[0m to Pipfile's \u001b[1;33m[\u001b[0m\u001b[33mpackages\u001b[0m\u001b[1;33m]\u001b[0m \u001b[33m...\u001b[0m\n",
      "\u001b[2K✔ Installation Succeededdas...\n",
      "\u001b[2K\u001b[32m⠋\u001b[0m Installing geopandas...\n",
      "\u001b[1A\u001b[2K\u001b[1;33mPipfile.lock \u001b[0m\u001b[1;33m(\u001b[0m\u001b[1;33m8eeff4\u001b[0m\u001b[1;33m)\u001b[0m\u001b[1;33m out of date, updating to \u001b[0m\u001b[1;33m(\u001b[0m\u001b[1;33m67730f\u001b[0m\u001b[1;33m)\u001b[0m\u001b[1;33m...\u001b[0m\n",
      "Locking\u001b[0m \u001b[33m[packages]\u001b[0m dependencies...\u001b[0m\n",
      "\u001b[?25lBuilding requirements\u001b[33m...\u001b[0m\n",
      "\u001b[2KResolving dependencies\u001b[33m...\u001b[0m\n",
      "\u001b[2K✘ Locking Failed!g...\n",
      "\u001b[32m⠹\u001b[0m Locking...False\n",
      "[ResolutionFailure]:   File \"/home/joshua/.local/lib/python3.10/site-packages/pipenv/resolver.py\", line 645, in _main\n",
      "[ResolutionFailure]:       resolve_packages(\n",
      "[ResolutionFailure]:   File \"/home/joshua/.local/lib/python3.10/site-packages/pipenv/resolver.py\", line 612, in resolve_packages\n",
      "[ResolutionFailure]:       results, resolver = resolve(\n",
      "[ResolutionFailure]:   File \"/home/joshua/.local/lib/python3.10/site-packages/pipenv/resolver.py\", line 592, in resolve\n",
      "[ResolutionFailure]:       return resolve_deps(\n",
      "[ResolutionFailure]:   File \"/home/joshua/.local/lib/python3.10/site-packages/pipenv/utils/resolver.py\", line 918, in resolve_deps\n",
      "[ResolutionFailure]:       results, hashes, internal_resolver = actually_resolve_deps(\n",
      "[ResolutionFailure]:   File \"/home/joshua/.local/lib/python3.10/site-packages/pipenv/utils/resolver.py\", line 691, in actually_resolve_deps\n",
      "[ResolutionFailure]:       resolver.resolve()\n",
      "[ResolutionFailure]:   File \"/home/joshua/.local/lib/python3.10/site-packages/pipenv/utils/resolver.py\", line 448, in resolve\n",
      "[ResolutionFailure]:       raise ResolutionFailure(message=str(e))\n",
      "[pipenv.exceptions.ResolutionFailure]: Warning: Your dependencies could not be resolved. You likely have a mismatch in your sub-dependencies.\n",
      "  You can use $ pipenv run pip install <requirement_name> to bypass this mechanism, then run $ pipenv graph to inspect the versions actually installed in the virtualenv.\n",
      "  Hint: try $ pipenv lock --pre if it is a pre-release dependency.\n",
      "ERROR: THESE PACKAGES DO NOT MATCH THE HASHES FROM THE REQUIREMENTS FILE. If you have updated the package versions, please update the hashes. Otherwise, examine the package contents carefully; someone may have tampered with them.\n",
      "    unknown package:\n",
      "        Expected sha256 e38c3c6d37cf2cc969407e4d051dcb507cfd948eb26c7b0840c4f7d7d4a71bd4\n",
      "             Got        627ad6fc130472715c1ee3888a834bdd49481b09c9550b4cf782e36977914890\n",
      "\n",
      "\u001b[2K\u001b[32m⠹\u001b[0m Locking...\n",
      "\u001b[1A\u001b[2KTraceback (most recent call last):\n",
      "  File \"/home/joshua/.local/bin/pipenv\", line 8, in <module>\n",
      "    sys.exit(cli())\n",
      "  File \"/home/joshua/.local/lib/python3.10/site-packages/pipenv/vendor/click/core.py\", line 1157, in __call__\n",
      "    return self.main(*args, **kwargs)\n",
      "  File \"/home/joshua/.local/lib/python3.10/site-packages/pipenv/cli/options.py\", line 58, in main\n",
      "    return super().main(*args, **kwargs, windows_expand_args=False)\n",
      "  File \"/home/joshua/.local/lib/python3.10/site-packages/pipenv/vendor/click/core.py\", line 1078, in main\n",
      "    rv = self.invoke(ctx)\n",
      "  File \"/home/joshua/.local/lib/python3.10/site-packages/pipenv/vendor/click/core.py\", line 1688, in invoke\n",
      "    return _process_result(sub_ctx.command.invoke(sub_ctx))\n",
      "  File \"/home/joshua/.local/lib/python3.10/site-packages/pipenv/vendor/click/core.py\", line 1434, in invoke\n",
      "    return ctx.invoke(self.callback, **ctx.params)\n",
      "  File \"/home/joshua/.local/lib/python3.10/site-packages/pipenv/vendor/click/core.py\", line 783, in invoke\n",
      "    return __callback(*args, **kwargs)\n",
      "  File \"/home/joshua/.local/lib/python3.10/site-packages/pipenv/vendor/click/decorators.py\", line 92, in new_func\n",
      "    return ctx.invoke(f, obj, *args, **kwargs)\n",
      "  File \"/home/joshua/.local/lib/python3.10/site-packages/pipenv/vendor/click/core.py\", line 783, in invoke\n",
      "    return __callback(*args, **kwargs)\n",
      "  File \"/home/joshua/.local/lib/python3.10/site-packages/pipenv/cli/command.py\", line 209, in install\n",
      "    do_install(\n",
      "  File \"/home/joshua/.local/lib/python3.10/site-packages/pipenv/routines/install.py\", line 297, in do_install\n",
      "    raise e\n",
      "  File \"/home/joshua/.local/lib/python3.10/site-packages/pipenv/routines/install.py\", line 281, in do_install\n",
      "    do_init(\n",
      "  File \"/home/joshua/.local/lib/python3.10/site-packages/pipenv/routines/install.py\", line 648, in do_init\n",
      "    do_lock(\n",
      "  File \"/home/joshua/.local/lib/python3.10/site-packages/pipenv/routines/lock.py\", line 65, in do_lock\n",
      "    venv_resolve_deps(\n",
      "  File \"/home/joshua/.local/lib/python3.10/site-packages/pipenv/utils/resolver.py\", line 859, in venv_resolve_deps\n",
      "    c = resolve(cmd, st, project=project)\n",
      "  File \"/home/joshua/.local/lib/python3.10/site-packages/pipenv/utils/resolver.py\", line 728, in resolve\n",
      "    raise RuntimeError(\"Failed to lock Pipfile.lock!\")\n",
      "RuntimeError: Failed to lock Pipfile.lock!\n"
     ]
    }
   ],
   "source": [
    "! pipenv install geopandas\n"
   ]
  },
  {
   "cell_type": "code",
   "execution_count": 5,
   "id": "7efe9b9b-fc03-49b8-a64b-95f15e868b22",
   "metadata": {},
   "outputs": [
    {
     "name": "stdout",
     "output_type": "stream",
     "text": [
      "Requirement already satisfied: geopandas in /home/joshua/.local/share/virtualenvs/gis_programming-WoLEzrUT/lib/python3.10/site-packages (1.0.1)\n",
      "Requirement already satisfied: numpy>=1.22 in /home/joshua/.local/share/virtualenvs/gis_programming-WoLEzrUT/lib/python3.10/site-packages (from geopandas) (2.1.1)\n",
      "Requirement already satisfied: pyogrio>=0.7.2 in /home/joshua/.local/share/virtualenvs/gis_programming-WoLEzrUT/lib/python3.10/site-packages (from geopandas) (0.9.0)\n",
      "Requirement already satisfied: packaging in /home/joshua/.local/share/virtualenvs/gis_programming-WoLEzrUT/lib/python3.10/site-packages (from geopandas) (24.1)\n",
      "Requirement already satisfied: pandas>=1.4.0 in /home/joshua/.local/share/virtualenvs/gis_programming-WoLEzrUT/lib/python3.10/site-packages (from geopandas) (2.2.2)\n",
      "Requirement already satisfied: pyproj>=3.3.0 in /home/joshua/.local/share/virtualenvs/gis_programming-WoLEzrUT/lib/python3.10/site-packages (from geopandas) (3.6.1)\n",
      "Requirement already satisfied: shapely>=2.0.0 in /home/joshua/.local/share/virtualenvs/gis_programming-WoLEzrUT/lib/python3.10/site-packages (from geopandas) (2.0.6)\n",
      "Requirement already satisfied: python-dateutil>=2.8.2 in /home/joshua/.local/share/virtualenvs/gis_programming-WoLEzrUT/lib/python3.10/site-packages (from pandas>=1.4.0->geopandas) (2.9.0.post0)\n",
      "Requirement already satisfied: pytz>=2020.1 in /home/joshua/.local/share/virtualenvs/gis_programming-WoLEzrUT/lib/python3.10/site-packages (from pandas>=1.4.0->geopandas) (2024.1)\n",
      "Requirement already satisfied: tzdata>=2022.7 in /home/joshua/.local/share/virtualenvs/gis_programming-WoLEzrUT/lib/python3.10/site-packages (from pandas>=1.4.0->geopandas) (2024.1)\n",
      "Requirement already satisfied: certifi in /home/joshua/.local/share/virtualenvs/gis_programming-WoLEzrUT/lib/python3.10/site-packages (from pyogrio>=0.7.2->geopandas) (2024.8.30)\n",
      "Requirement already satisfied: six>=1.5 in /home/joshua/.local/share/virtualenvs/gis_programming-WoLEzrUT/lib/python3.10/site-packages (from python-dateutil>=2.8.2->pandas>=1.4.0->geopandas) (1.16.0)\n"
     ]
    }
   ],
   "source": [
    "! pip install geopandas\n"
   ]
  },
  {
   "cell_type": "code",
   "execution_count": 4,
   "id": "f5340f54-813e-47f7-9774-73b54619f8b7",
   "metadata": {},
   "outputs": [],
   "source": [
    "import geopandas as gpd\n",
    "from shapely.geometry import Point, Polygon\n"
   ]
  },
  {
   "cell_type": "code",
   "execution_count": 23,
   "id": "350b3a2b-bb1c-4187-b47f-f8028b2870c2",
   "metadata": {},
   "outputs": [
    {
     "data": {
      "text/html": [
       "<div>\n",
       "<style scoped>\n",
       "    .dataframe tbody tr th:only-of-type {\n",
       "        vertical-align: middle;\n",
       "    }\n",
       "\n",
       "    .dataframe tbody tr th {\n",
       "        vertical-align: top;\n",
       "    }\n",
       "\n",
       "    .dataframe thead th {\n",
       "        text-align: right;\n",
       "    }\n",
       "</style>\n",
       "<table border=\"1\" class=\"dataframe\">\n",
       "  <thead>\n",
       "    <tr style=\"text-align: right;\">\n",
       "      <th></th>\n",
       "      <th>City</th>\n",
       "      <th>Latitude</th>\n",
       "      <th>Longitude</th>\n",
       "      <th>geometry</th>\n",
       "    </tr>\n",
       "  </thead>\n",
       "  <tbody>\n",
       "    <tr>\n",
       "      <th>0</th>\n",
       "      <td>Tokyo</td>\n",
       "      <td>35.6895</td>\n",
       "      <td>139.6917</td>\n",
       "      <td>POINT (139.6917 35.6895)</td>\n",
       "    </tr>\n",
       "    <tr>\n",
       "      <th>1</th>\n",
       "      <td>New York</td>\n",
       "      <td>40.7128</td>\n",
       "      <td>-74.0060</td>\n",
       "      <td>POINT (-74.006 40.7128)</td>\n",
       "    </tr>\n",
       "    <tr>\n",
       "      <th>2</th>\n",
       "      <td>London</td>\n",
       "      <td>51.5074</td>\n",
       "      <td>-0.1278</td>\n",
       "      <td>POINT (-0.1278 51.5074)</td>\n",
       "    </tr>\n",
       "    <tr>\n",
       "      <th>3</th>\n",
       "      <td>Paris</td>\n",
       "      <td>48.8566</td>\n",
       "      <td>2.3522</td>\n",
       "      <td>POINT (2.3522 48.8566)</td>\n",
       "    </tr>\n",
       "  </tbody>\n",
       "</table>\n",
       "</div>"
      ],
      "text/plain": [
       "       City  Latitude  Longitude                  geometry\n",
       "0     Tokyo   35.6895   139.6917  POINT (139.6917 35.6895)\n",
       "1  New York   40.7128   -74.0060   POINT (-74.006 40.7128)\n",
       "2    London   51.5074    -0.1278   POINT (-0.1278 51.5074)\n",
       "3     Paris   48.8566     2.3522    POINT (2.3522 48.8566)"
      ]
     },
     "execution_count": 23,
     "metadata": {},
     "output_type": "execute_result"
    }
   ],
   "source": [
    "#creating a geodataframe\n",
    "import pandas as pd\n",
    "data={\n",
    "    \"City\": [\"Tokyo\",\"New York\",\"London\",\"Paris\"],\n",
    "    \"Latitude\": [35.6895, 40.7128, 51.5074, 48.8566],\n",
    "    \"Longitude\": [139.6917, -74.0060, -0.1278, 2.3522],\n",
    "}\n",
    "\n",
    "df=pd.DataFrame(data)\n",
    "\n",
    "gdf=gpd.GeoDataFrame(df, geometry=gpd.points_from_xy(df.Longitude, df.Latitude))\n",
    "gdf"
   ]
  },
  {
   "cell_type": "code",
   "execution_count": null,
   "id": "8fd0f544-7b1c-4f9c-b9ac-14996bda0fe4",
   "metadata": {},
   "outputs": [
    {
     "name": "stdout",
     "output_type": "stream",
     "text": [
      "\u001b[1;32mInstalling geodatasets\u001b[0m\u001b[1;33m...\u001b[0m\n",
      "\u001b[?25lResolving geodatasets\u001b[33m...\u001b[0m\n",
      "\u001b[2K\u001b[1mAdded \u001b[0m\u001b[1;32mgeodatasets\u001b[0m to Pipfile's \u001b[1;33m[\u001b[0m\u001b[33mpackages\u001b[0m\u001b[1;33m]\u001b[0m \u001b[33m...\u001b[0m\n",
      "\u001b[2K✔ Installation Succeededasets...\n",
      "\u001b[2K\u001b[32m⠋\u001b[0m Installing geodatasets...\n",
      "\u001b[1A\u001b[2K\u001b[1;33mPipfile.lock \u001b[0m\u001b[1;33m(\u001b[0m\u001b[1;33m8eeff4\u001b[0m\u001b[1;33m)\u001b[0m\u001b[1;33m out of date, updating to \u001b[0m\u001b[1;33m(\u001b[0m\u001b[1;33maaa1cf\u001b[0m\u001b[1;33m)\u001b[0m\u001b[1;33m...\u001b[0m\n",
      "Locking\u001b[0m \u001b[33m[packages]\u001b[0m dependencies...\u001b[0m\n",
      "\u001b[?25lBuilding requirements\u001b[33m...\u001b[0m\n",
      "\u001b[2KResolving dependencies\u001b[33m...\u001b[0m\n",
      "\u001b[2K\u001b[32m⠏\u001b[0m Locking..."
     ]
    }
   ],
   "source": [
    "! pipenv install geodatasets\n"
   ]
  },
  {
   "cell_type": "code",
   "execution_count": 21,
   "id": "3436b3e4-f1dd-4df3-a68a-fdc2a7945a56",
   "metadata": {},
   "outputs": [
    {
     "name": "stderr",
     "output_type": "stream",
     "text": [
      "Downloading file 'ne_110m_land.zip' from 'https://naciscdn.org/naturalearth/110m/physical/ne_110m_land.zip' to '/home/joshua/.cache/geodatasets'.\n"
     ]
    },
    {
     "name": "stdout",
     "output_type": "stream",
     "text": [
      "  featurecla  scalerank  min_zoom  \\\n",
      "0       Land          1       1.0   \n",
      "1       Land          1       1.0   \n",
      "2       Land          1       0.0   \n",
      "3       Land          1       1.0   \n",
      "4       Land          1       1.0   \n",
      "\n",
      "                                            geometry  \n",
      "0  POLYGON ((-59.57209 -80.04018, -59.86585 -80.5...  \n",
      "1  POLYGON ((-159.20818 -79.49706, -161.1276 -79....  \n",
      "2  POLYGON ((-45.15476 -78.04707, -43.92083 -78.4...  \n",
      "3  POLYGON ((-121.21151 -73.50099, -119.91885 -73...  \n",
      "4  POLYGON ((-125.55957 -73.48135, -124.03188 -73...  \n",
      "GeoDataframe has been witten to world.geojson\n"
     ]
    }
   ],
   "source": [
    "#reading a shapefile\n",
    "import geodatasets\n",
    "try:\n",
    "    world=gpd.read_file(geodatasets.get_path(\"naturalearth land\"))\n",
    "    print(world.head())\n",
    "except Exception as e:\n",
    "    print(f\"An error occured: {e}\")\n",
    "#writting the geodataframe to a geojson file\n",
    "output_file=\"world.geojson\"\n",
    "try:\n",
    "    world.to_file(output_file, driver=\"GeoJSON\")\n",
    "    print(f\"GeoDataframe has been witten to {output_file}\")\n",
    "except Exception as e:\n",
    "    print(f\"an error occured while writing to  : {output_file}:{e}\")"
   ]
  },
  {
   "cell_type": "markdown",
   "id": "d9d7f3eb-e91d-4a2d-939f-8917c1f3f946",
   "metadata": {},
   "source": [
    "SPATIAL OPERATIONS"
   ]
  },
  {
   "cell_type": "code",
   "execution_count": 24,
   "id": "25204f6b-023e-4e2d-8424-685fea8dc48a",
   "metadata": {},
   "outputs": [
    {
     "data": {
      "text/html": [
       "<div>\n",
       "<style scoped>\n",
       "    .dataframe tbody tr th:only-of-type {\n",
       "        vertical-align: middle;\n",
       "    }\n",
       "\n",
       "    .dataframe tbody tr th {\n",
       "        vertical-align: top;\n",
       "    }\n",
       "\n",
       "    .dataframe thead th {\n",
       "        text-align: right;\n",
       "    }\n",
       "</style>\n",
       "<table border=\"1\" class=\"dataframe\">\n",
       "  <thead>\n",
       "    <tr style=\"text-align: right;\">\n",
       "      <th></th>\n",
       "      <th>City</th>\n",
       "      <th>buffer</th>\n",
       "    </tr>\n",
       "  </thead>\n",
       "  <tbody>\n",
       "    <tr>\n",
       "      <th>0</th>\n",
       "      <td>Tokyo</td>\n",
       "      <td>POLYGON ((140.6917 35.6895, 140.68688 35.59148...</td>\n",
       "    </tr>\n",
       "    <tr>\n",
       "      <th>1</th>\n",
       "      <td>New York</td>\n",
       "      <td>POLYGON ((-73.006 40.7128, -73.01082 40.61478,...</td>\n",
       "    </tr>\n",
       "    <tr>\n",
       "      <th>2</th>\n",
       "      <td>London</td>\n",
       "      <td>POLYGON ((0.8722 51.5074, 0.86738 51.40938, 0....</td>\n",
       "    </tr>\n",
       "    <tr>\n",
       "      <th>3</th>\n",
       "      <td>Paris</td>\n",
       "      <td>POLYGON ((3.3522 48.8566, 3.34738 48.75858, 3....</td>\n",
       "    </tr>\n",
       "  </tbody>\n",
       "</table>\n",
       "</div>"
      ],
      "text/plain": [
       "       City                                             buffer\n",
       "0     Tokyo  POLYGON ((140.6917 35.6895, 140.68688 35.59148...\n",
       "1  New York  POLYGON ((-73.006 40.7128, -73.01082 40.61478,...\n",
       "2    London  POLYGON ((0.8722 51.5074, 0.86738 51.40938, 0....\n",
       "3     Paris  POLYGON ((3.3522 48.8566, 3.34738 48.75858, 3...."
      ]
     },
     "execution_count": 24,
     "metadata": {},
     "output_type": "execute_result"
    }
   ],
   "source": [
    "#example of buffering\n",
    "gdf[\"buffer\"] = gdf.buffer(1) #buffer of 1 degree\n",
    "gdf[[\"City\", \"buffer\"]]"
   ]
  },
  {
   "cell_type": "code",
   "execution_count": 25,
   "id": "c6e8474d-6e40-48c0-976d-6a28ae200e22",
   "metadata": {},
   "outputs": [
    {
     "data": {
      "text/html": [
       "<div>\n",
       "<style scoped>\n",
       "    .dataframe tbody tr th:only-of-type {\n",
       "        vertical-align: middle;\n",
       "    }\n",
       "\n",
       "    .dataframe tbody tr th {\n",
       "        vertical-align: top;\n",
       "    }\n",
       "\n",
       "    .dataframe thead th {\n",
       "        text-align: right;\n",
       "    }\n",
       "</style>\n",
       "<table border=\"1\" class=\"dataframe\">\n",
       "  <thead>\n",
       "    <tr style=\"text-align: right;\">\n",
       "      <th></th>\n",
       "      <th>City</th>\n",
       "      <th>Latitude</th>\n",
       "      <th>Longitude</th>\n",
       "      <th>geometry</th>\n",
       "      <th>buffer</th>\n",
       "      <th>index_right</th>\n",
       "      <th>0</th>\n",
       "    </tr>\n",
       "  </thead>\n",
       "  <tbody>\n",
       "    <tr>\n",
       "      <th>3</th>\n",
       "      <td>Paris</td>\n",
       "      <td>48.8566</td>\n",
       "      <td>2.3522</td>\n",
       "      <td>POINT (2.3522 48.8566)</td>\n",
       "      <td>POLYGON ((3.3522 48.8566, 3.34738 48.75858, 3....</td>\n",
       "      <td>0</td>\n",
       "      <td>1</td>\n",
       "    </tr>\n",
       "  </tbody>\n",
       "</table>\n",
       "</div>"
      ],
      "text/plain": [
       "    City  Latitude  Longitude                geometry  \\\n",
       "3  Paris   48.8566     2.3522  POINT (2.3522 48.8566)   \n",
       "\n",
       "                                              buffer  index_right  0  \n",
       "3  POLYGON ((3.3522 48.8566, 3.34738 48.75858, 3....            0  1  "
      ]
     },
     "execution_count": 25,
     "metadata": {},
     "output_type": "execute_result"
    }
   ],
   "source": [
    "#examples of spatial join\n",
    "\n",
    "paris=gdf[gdf[\"City\"] ==\"Paris\"]\n",
    "polygon=Polygon([(2, 48), (2.5, 48), (2.5, 49), (2, 49)])\n",
    "polygon_gdf=gpd.GeoDataFrame([1], geometry=[polygon], crs=gdf.crs)\n",
    "joined=gpd.sjoin(gdf, polygon_gdf, predicate=\"within\")\n",
    "joined"
   ]
  },
  {
   "cell_type": "code",
   "execution_count": 30,
   "id": "2b5b213e-6429-42ff-9551-f4121b7603bd",
   "metadata": {},
   "outputs": [
    {
     "data": {
      "image/png": "[encoded data removed]",
      "text/plain": [
       "<Figure size 640x480 with 1 Axes>"
      ]
     },
     "metadata": {},
     "output_type": "display_data"
    }
   ],
   "source": [
    "import matplotlib.pyplot as plt \n",
    "\n",
    "#plotting the world map and cities\n",
    "world.plot()\n",
    "gdf.plot(ax=plt.gca(), color=\"red\")\n",
    "plt.show()"
   ]
  },
  {
   "cell_type": "code",
   "execution_count": 33,
   "id": "1a57e0bf-e53f-4e74-ae54-a20a9007ac04",
   "metadata": {},
   "outputs": [
    {
     "data": {
      "text/html": [
       "<div style=\"width:100%;\"><div style=\"position:relative;width:100%;height:0;padding-bottom:60%;\"><span style=\"color:#565656\">Make this Notebook Trusted to load map: File -> Trust Notebook</span><iframe srcdoc=\"&lt;!DOCTYPE html&gt;\n",
       "&lt;html&gt;\n",
       "&lt;head&gt;\n",
       "    \n",
       "    &lt;meta http-equiv=&quot;content-type&quot; content=&quot;text/html; charset=UTF-8&quot; /&gt;\n",
       "    \n",
       "        &lt;script&gt;\n",
       "            L_NO_TOUCH = false;\n",
       "            L_DISABLE_3D = false;\n",
       "        &lt;/script&gt;\n",
       "    \n",
       "    &lt;style&gt;html, body {width: 100%;height: 100%;margin: 0;padding: 0;}&lt;/style&gt;\n",
       "    &lt;style&gt;#map {position:absolute;top:0;bottom:0;right:0;left:0;}&lt;/style&gt;\n",
       "    &lt;script src=&quot;https://cdn.jsdelivr.net/npm/leaflet@1.9.3/dist/leaflet.js&quot;&gt;&lt;/script&gt;\n",
       "    &lt;script src=&quot;https://code.jquery.com/jquery-3.7.1.min.js&quot;&gt;&lt;/script&gt;\n",
       "    &lt;script src=&quot;https://cdn.jsdelivr.net/npm/bootstrap@5.2.2/dist/js/bootstrap.bundle.min.js&quot;&gt;&lt;/script&gt;\n",
       "    &lt;script src=&quot;https://cdnjs.cloudflare.com/ajax/libs/Leaflet.awesome-markers/2.0.2/leaflet.awesome-markers.js&quot;&gt;&lt;/script&gt;\n",
       "    &lt;link rel=&quot;stylesheet&quot; href=&quot;https://cdn.jsdelivr.net/npm/leaflet@1.9.3/dist/leaflet.css&quot;/&gt;\n",
       "    &lt;link rel=&quot;stylesheet&quot; href=&quot;https://cdn.jsdelivr.net/npm/bootstrap@5.2.2/dist/css/bootstrap.min.css&quot;/&gt;\n",
       "    &lt;link rel=&quot;stylesheet&quot; href=&quot;https://netdna.bootstrapcdn.com/bootstrap/3.0.0/css/bootstrap-glyphicons.css&quot;/&gt;\n",
       "    &lt;link rel=&quot;stylesheet&quot; href=&quot;https://cdn.jsdelivr.net/npm/@fortawesome/fontawesome-free@6.2.0/css/all.min.css&quot;/&gt;\n",
       "    &lt;link rel=&quot;stylesheet&quot; href=&quot;https://cdnjs.cloudflare.com/ajax/libs/Leaflet.awesome-markers/2.0.2/leaflet.awesome-markers.css&quot;/&gt;\n",
       "    &lt;link rel=&quot;stylesheet&quot; href=&quot;https://cdn.jsdelivr.net/gh/python-visualization/folium/folium/templates/leaflet.awesome.rotate.min.css&quot;/&gt;\n",
       "    \n",
       "            &lt;meta name=&quot;viewport&quot; content=&quot;width=device-width,\n",
       "                initial-scale=1.0, maximum-scale=1.0, user-scalable=no&quot; /&gt;\n",
       "            &lt;style&gt;\n",
       "                #map_707bab2b0fa5513bba4771ce6b07a525 {\n",
       "                    position: relative;\n",
       "                    width: 100.0%;\n",
       "                    height: 100.0%;\n",
       "                    left: 0.0%;\n",
       "                    top: 0.0%;\n",
       "                }\n",
       "                .leaflet-container { font-size: 1rem; }\n",
       "            &lt;/style&gt;\n",
       "        \n",
       "    \n",
       "                    &lt;style&gt;\n",
       "                        .foliumtooltip {\n",
       "                            \n",
       "                        }\n",
       "                       .foliumtooltip table{\n",
       "                            margin: auto;\n",
       "                        }\n",
       "                        .foliumtooltip tr{\n",
       "                            text-align: left;\n",
       "                        }\n",
       "                        .foliumtooltip th{\n",
       "                            padding: 2px; padding-right: 8px;\n",
       "                        }\n",
       "                    &lt;/style&gt;\n",
       "            \n",
       "&lt;/head&gt;\n",
       "&lt;body&gt;\n",
       "    \n",
       "    \n",
       "            &lt;div class=&quot;folium-map&quot; id=&quot;map_707bab2b0fa5513bba4771ce6b07a525&quot; &gt;&lt;/div&gt;\n",
       "        \n",
       "&lt;/body&gt;\n",
       "&lt;script&gt;\n",
       "    \n",
       "    \n",
       "            var map_707bab2b0fa5513bba4771ce6b07a525 = L.map(\n",
       "                &quot;map_707bab2b0fa5513bba4771ce6b07a525&quot;,\n",
       "                {\n",
       "                    center: [43.59845, 32.84285],\n",
       "                    crs: L.CRS.EPSG3857,\n",
       "                    zoom: 10,\n",
       "                    zoomControl: true,\n",
       "                    preferCanvas: false,\n",
       "                }\n",
       "            );\n",
       "            L.control.scale().addTo(map_707bab2b0fa5513bba4771ce6b07a525);\n",
       "\n",
       "            \n",
       "\n",
       "        \n",
       "    \n",
       "            var tile_layer_9f54d43abe9f0b547acae0a94a602952 = L.tileLayer(\n",
       "                &quot;https://tile.openstreetmap.org/{z}/{x}/{y}.png&quot;,\n",
       "                {&quot;attribution&quot;: &quot;\\u0026copy; \\u003ca href=\\&quot;https://www.openstreetmap.org/copyright\\&quot;\\u003eOpenStreetMap\\u003c/a\\u003e contributors&quot;, &quot;detectRetina&quot;: false, &quot;maxNativeZoom&quot;: 19, &quot;maxZoom&quot;: 19, &quot;minZoom&quot;: 0, &quot;noWrap&quot;: false, &quot;opacity&quot;: 1, &quot;subdomains&quot;: &quot;abc&quot;, &quot;tms&quot;: false}\n",
       "            );\n",
       "        \n",
       "    \n",
       "            tile_layer_9f54d43abe9f0b547acae0a94a602952.addTo(map_707bab2b0fa5513bba4771ce6b07a525);\n",
       "        \n",
       "    \n",
       "            map_707bab2b0fa5513bba4771ce6b07a525.fitBounds(\n",
       "                [[35.6895, -74.006], [51.5074, 139.6917]],\n",
       "                {}\n",
       "            );\n",
       "        \n",
       "    \n",
       "        function geo_json_01ec707b5dcdb2290fc630dab3556408_styler(feature) {\n",
       "            switch(feature.id) {\n",
       "                default:\n",
       "                    return {&quot;fillOpacity&quot;: 0.5, &quot;weight&quot;: 2};\n",
       "            }\n",
       "        }\n",
       "        function geo_json_01ec707b5dcdb2290fc630dab3556408_highlighter(feature) {\n",
       "            switch(feature.id) {\n",
       "                default:\n",
       "                    return {&quot;fillOpacity&quot;: 0.75};\n",
       "            }\n",
       "        }\n",
       "        function geo_json_01ec707b5dcdb2290fc630dab3556408_pointToLayer(feature, latlng) {\n",
       "            var opts = {&quot;bubblingMouseEvents&quot;: true, &quot;color&quot;: &quot;#3388ff&quot;, &quot;dashArray&quot;: null, &quot;dashOffset&quot;: null, &quot;fill&quot;: true, &quot;fillColor&quot;: &quot;#3388ff&quot;, &quot;fillOpacity&quot;: 0.2, &quot;fillRule&quot;: &quot;evenodd&quot;, &quot;lineCap&quot;: &quot;round&quot;, &quot;lineJoin&quot;: &quot;round&quot;, &quot;opacity&quot;: 1.0, &quot;radius&quot;: 2, &quot;stroke&quot;: true, &quot;weight&quot;: 3};\n",
       "            \n",
       "            let style = geo_json_01ec707b5dcdb2290fc630dab3556408_styler(feature)\n",
       "            Object.assign(opts, style)\n",
       "            \n",
       "            return new L.CircleMarker(latlng, opts)\n",
       "        }\n",
       "\n",
       "        function geo_json_01ec707b5dcdb2290fc630dab3556408_onEachFeature(feature, layer) {\n",
       "            layer.on({\n",
       "                mouseout: function(e) {\n",
       "                    if(typeof e.target.setStyle === &quot;function&quot;){\n",
       "                            geo_json_01ec707b5dcdb2290fc630dab3556408.resetStyle(e.target);\n",
       "                    }\n",
       "                },\n",
       "                mouseover: function(e) {\n",
       "                    if(typeof e.target.setStyle === &quot;function&quot;){\n",
       "                        const highlightStyle = geo_json_01ec707b5dcdb2290fc630dab3556408_highlighter(e.target.feature)\n",
       "                        e.target.setStyle(highlightStyle);\n",
       "                    }\n",
       "                },\n",
       "            });\n",
       "        };\n",
       "        var geo_json_01ec707b5dcdb2290fc630dab3556408 = L.geoJson(null, {\n",
       "                onEachFeature: geo_json_01ec707b5dcdb2290fc630dab3556408_onEachFeature,\n",
       "            \n",
       "                style: geo_json_01ec707b5dcdb2290fc630dab3556408_styler,\n",
       "                pointToLayer: geo_json_01ec707b5dcdb2290fc630dab3556408_pointToLayer,\n",
       "        });\n",
       "\n",
       "        function geo_json_01ec707b5dcdb2290fc630dab3556408_add (data) {\n",
       "            geo_json_01ec707b5dcdb2290fc630dab3556408\n",
       "                .addData(data);\n",
       "        }\n",
       "            geo_json_01ec707b5dcdb2290fc630dab3556408_add({&quot;bbox&quot;: [-74.006, 35.6895, 139.6917, 51.5074], &quot;features&quot;: [{&quot;bbox&quot;: [139.6917, 35.6895, 139.6917, 35.6895], &quot;geometry&quot;: {&quot;coordinates&quot;: [139.6917, 35.6895], &quot;type&quot;: &quot;Point&quot;}, &quot;id&quot;: &quot;0&quot;, &quot;properties&quot;: {&quot;City&quot;: &quot;Tokyo&quot;, &quot;Latitude&quot;: 35.6895, &quot;Longitude&quot;: 139.6917}, &quot;type&quot;: &quot;Feature&quot;}, {&quot;bbox&quot;: [-74.006, 40.7128, -74.006, 40.7128], &quot;geometry&quot;: {&quot;coordinates&quot;: [-74.006, 40.7128], &quot;type&quot;: &quot;Point&quot;}, &quot;id&quot;: &quot;1&quot;, &quot;properties&quot;: {&quot;City&quot;: &quot;New York&quot;, &quot;Latitude&quot;: 40.7128, &quot;Longitude&quot;: -74.006}, &quot;type&quot;: &quot;Feature&quot;}, {&quot;bbox&quot;: [-0.1278, 51.5074, -0.1278, 51.5074], &quot;geometry&quot;: {&quot;coordinates&quot;: [-0.1278, 51.5074], &quot;type&quot;: &quot;Point&quot;}, &quot;id&quot;: &quot;2&quot;, &quot;properties&quot;: {&quot;City&quot;: &quot;London&quot;, &quot;Latitude&quot;: 51.5074, &quot;Longitude&quot;: -0.1278}, &quot;type&quot;: &quot;Feature&quot;}, {&quot;bbox&quot;: [2.3522, 48.8566, 2.3522, 48.8566], &quot;geometry&quot;: {&quot;coordinates&quot;: [2.3522, 48.8566], &quot;type&quot;: &quot;Point&quot;}, &quot;id&quot;: &quot;3&quot;, &quot;properties&quot;: {&quot;City&quot;: &quot;Paris&quot;, &quot;Latitude&quot;: 48.8566, &quot;Longitude&quot;: 2.3522}, &quot;type&quot;: &quot;Feature&quot;}], &quot;type&quot;: &quot;FeatureCollection&quot;});\n",
       "\n",
       "        \n",
       "    \n",
       "    geo_json_01ec707b5dcdb2290fc630dab3556408.bindTooltip(\n",
       "    function(layer){\n",
       "    let div = L.DomUtil.create(&#x27;div&#x27;);\n",
       "    \n",
       "    let handleObject = feature=&gt;typeof(feature)==&#x27;object&#x27; ? JSON.stringify(feature) : feature;\n",
       "    let fields = [&quot;City&quot;, &quot;Latitude&quot;, &quot;Longitude&quot;];\n",
       "    let aliases = [&quot;City&quot;, &quot;Latitude&quot;, &quot;Longitude&quot;];\n",
       "    let table = &#x27;&lt;table&gt;&#x27; +\n",
       "        String(\n",
       "        fields.map(\n",
       "        (v,i)=&gt;\n",
       "        `&lt;tr&gt;\n",
       "            &lt;th&gt;${aliases[i]}&lt;/th&gt;\n",
       "            \n",
       "            &lt;td&gt;${handleObject(layer.feature.properties[v])}&lt;/td&gt;\n",
       "        &lt;/tr&gt;`).join(&#x27;&#x27;))\n",
       "    +&#x27;&lt;/table&gt;&#x27;;\n",
       "    div.innerHTML=table;\n",
       "    \n",
       "    return div\n",
       "    }\n",
       "    ,{&quot;className&quot;: &quot;foliumtooltip&quot;, &quot;sticky&quot;: true});\n",
       "                     \n",
       "    \n",
       "            geo_json_01ec707b5dcdb2290fc630dab3556408.addTo(map_707bab2b0fa5513bba4771ce6b07a525);\n",
       "        \n",
       "&lt;/script&gt;\n",
       "&lt;/html&gt;\" style=\"position:absolute;width:100%;height:100%;left:0;top:0;border:none !important;\" allowfullscreen webkitallowfullscreen mozallowfullscreen></iframe></div></div>"
      ],
      "text/plain": [
       "<folium.folium.Map at 0x7fea79611540>"
      ]
     },
     "execution_count": 33,
     "metadata": {},
     "output_type": "execute_result"
    }
   ],
   "source": [
    "gdf.crs=\"EPSG:4326\"\n",
    "gdf.explore()"
   ]
  },
  {
   "cell_type": "code",
   "execution_count": null,
   "id": "2305bda5-b2ef-43f6-a7aa-a60710d63662",
   "metadata": {},
   "outputs": [],
   "source": []
  }
 ],
 "metadata": {
  "kernelspec": {
   "display_name": "Python 3 (ipykernel)",
   "language": "python",
   "name": "python3"
  },
  "language_info": {
   "codemirror_mode": {
    "name": "ipython",
    "version": 3
   },
   "file_extension": ".py",
   "mimetype": "text/x-python",
   "name": "python",
   "nbconvert_exporter": "python",
   "pygments_lexer": "ipython3",
   "version": "3.10.12"
  }
 },
 "nbformat": 4,
 "nbformat_minor": 5
}
