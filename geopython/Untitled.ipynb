{
 "cells": [
  {
   "cell_type": "code",
   "execution_count": 1,
   "id": "6f5ca8b5-306c-4039-bd35-172db94d16a8",
   "metadata": {},
   "outputs": [],
   "source": [
    "#create interactive maps\n",
    "import os\n",
    "import leafmap"
   ]
  },
  {
   "cell_type": "code",
   "execution_count": 5,
   "id": "62905a1b-d39c-4116-8ce5-433024e6990a",
   "metadata": {},
   "outputs": [
    {
     "data": {
      "application/vnd.jupyter.widget-view+json": {
       "model_id": "6c4cc02826634424a63e439def1a271f",
       "version_major": 2,
       "version_minor": 0
      },
      "text/plain": [
       "Map(center=[-1.278, 36.789], controls=(ZoomControl(options=['position', 'zoom_in_text', 'zoom_in_title', 'zoom…"
      ]
     },
     "execution_count": 5,
     "metadata": {},
     "output_type": "execute_result"
    }
   ],
   "source": [
    "m=leafmap.Map(center=[-1.278,36.789], zoom=6, height=\"600px\")\n",
    "m"
   ]
  },
  {
   "cell_type": "code",
   "execution_count": 7,
   "id": "f8aa46b4-d4ca-4ac3-8718-5f2db03e1c06",
   "metadata": {},
   "outputs": [
    {
     "data": {
      "application/vnd.jupyter.widget-view+json": {
       "model_id": "d8b27137662d4ff78f5a19d04319f7a0",
       "version_major": 2,
       "version_minor": 0
      },
      "text/plain": [
       "Map(center=[20, 0], controls=(ZoomControl(options=['position', 'zoom_in_text', 'zoom_in_title', 'zoom_out_text…"
      ]
     },
     "execution_count": 7,
     "metadata": {},
     "output_type": "execute_result"
    }
   ],
   "source": [
    "m=leafmap.Map()\n",
    "m.add_basemap(\"OpenTopoMap\")\n",
    "m.add_basemap(\"USGS 3DEP Elevation\")\n",
    "m.add_basemap(\"USGS Hydrography\")\n",
    "m"
   ]
  },
  {
   "cell_type": "code",
   "execution_count": 9,
   "id": "30c12668-b205-475b-badb-34fd14c26218",
   "metadata": {},
   "outputs": [
    {
     "data": {
      "application/vnd.jupyter.widget-view+json": {
       "model_id": "7a55d6ba20f94f20a6b11b142d30b8cd",
       "version_major": 2,
       "version_minor": 0
      },
      "text/plain": [
       "Map(center=[40, -100], controls=(ZoomControl(options=['position', 'zoom_in_text', 'zoom_in_title', 'zoom_out_t…"
      ]
     },
     "execution_count": 9,
     "metadata": {},
     "output_type": "execute_result"
    }
   ],
   "source": [
    "#ADD NLCD land cover\n",
    "m = leafmap.Map(center=[40, -100], zoom=4)\n",
    "m.add_basemap(\"HYBRID\")\n",
    "m.add_basemap(\"NLCD 2019 CONUS Land Cover\")\n",
    "m.add_legend(builtin_legend=\"NLCD\", title=\"NLCD Land Cover Type\")\n",
    "m"
   ]
  },
  {
   "cell_type": "code",
   "execution_count": 10,
   "id": "c15601e1-100f-4797-9539-85e2b4b78bd5",
   "metadata": {},
   "outputs": [
    {
     "data": {
      "application/vnd.jupyter.widget-view+json": {
       "model_id": "c6724ef4b91b4c24bb413f95b7f9008e",
       "version_major": 2,
       "version_minor": 0
      },
      "text/plain": [
       "Map(center=[40, -100], controls=(ZoomControl(options=['position', 'zoom_in_text', 'zoom_in_title', 'zoom_out_t…"
      ]
     },
     "execution_count": 10,
     "metadata": {},
     "output_type": "execute_result"
    }
   ],
   "source": [
    "#add WMS layers\n",
    "\n",
    "m = leafmap.Map(center=[40, -100], zoom=4)\n",
    "m.add_basemap(\"Esri.WorldImagery\")\n",
    "url = \"https://www.mrlc.gov/geoserver/mrlc_display/NLCD_2019_Land_Cover_L48/wms?\"\n",
    "m.add_wms_layer(\n",
    "    url,\n",
    "    layers=\"NLCD_2019_Land_Cover_L48\",\n",
    "    name=\"NLCD 2019 CONUS Land Cover\",\n",
    "    format=\"image/png\",\n",
    "    transparent=True,\n",
    ")\n",
    "m.add_legend(builtin_legend=\"NLCD\", title=\"NLCD Land Cover Type\")\n",
    "m"
   ]
  },
  {
   "cell_type": "code",
   "execution_count": 16,
   "id": "25fd9206-4bb5-44da-898c-d01373ec1754",
   "metadata": {},
   "outputs": [],
   "source": [
    "#GET watershed data\n",
    "#download watershed data \n",
    "gdf = leafmap.get_nhd_basins(feature_ids=23763529, fsource=\"comid\", simplified=False)"
   ]
  },
  {
   "cell_type": "code",
   "execution_count": 17,
   "id": "0bc66c07-0303-4f94-a0e6-f7c439536cbe",
   "metadata": {},
   "outputs": [
    {
     "data": {
      "application/vnd.jupyter.widget-view+json": {
       "model_id": "2476317244ae4afa90510e8b88de78f8",
       "version_major": 2,
       "version_minor": 0
      },
      "text/plain": [
       "Map(center=[20, 0], controls=(ZoomControl(options=['position', 'zoom_in_text', 'zoom_in_title', 'zoom_out_text…"
      ]
     },
     "execution_count": 17,
     "metadata": {},
     "output_type": "execute_result"
    }
   ],
   "source": [
    "m=leafmap.Map()\n",
    "m.add_gdf(gdf, layer_name=\"Catchment\", info_mode=None)\n",
    "m"
   ]
  },
  {
   "cell_type": "code",
   "execution_count": 18,
   "id": "d0097043-13a9-4092-ac91-38a1f7a9b245",
   "metadata": {},
   "outputs": [],
   "source": [
    "gdf.to_file(\"basin.geojson\", driver=\"GeoJSON\")"
   ]
  },
  {
   "cell_type": "code",
   "execution_count": 20,
   "id": "63e5c3f0-c599-4db4-be3e-a7071107752c",
   "metadata": {},
   "outputs": [],
   "source": [
    "gdf.to_file(\"basin.shp\")"
   ]
  },
  {
   "cell_type": "code",
   "execution_count": null,
   "id": "5bf21c4e-43cf-4e8c-82f1-e505f6523245",
   "metadata": {},
   "outputs": [],
   "source": []
  }
 ],
 "metadata": {
  "kernelspec": {
   "display_name": "Python 3 (ipykernel)",
   "language": "python",
   "name": "python3"
  },
  "language_info": {
   "codemirror_mode": {
    "name": "ipython",
    "version": 3
   },
   "file_extension": ".py",
   "mimetype": "text/x-python",
   "name": "python",
   "nbconvert_exporter": "python",
   "pygments_lexer": "ipython3",
   "version": "3.10.12"
  }
 },
 "nbformat": 4,
 "nbformat_minor": 5
}
