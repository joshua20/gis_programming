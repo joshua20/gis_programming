{
 "cells": [
  {
   "cell_type": "code",
   "execution_count": 4,
   "id": "cf4e1cd9-50a0-46f6-a04b-0652e706dca9",
   "metadata": {},
   "outputs": [
    {
     "data": {
      "application/vnd.jupyter.widget-view+json": {
       "model_id": "e77e7641010e426796e2a2ff0e19faea",
       "version_major": 2,
       "version_minor": 0
      },
      "text/plain": [
       "Map(center=[0, 0], controls=(ZoomControl(options=['position', 'zoom_in_text', 'zoom_in_title', 'zoom_out_text'…"
      ]
     },
     "execution_count": 4,
     "metadata": {},
     "output_type": "execute_result"
    }
   ],
   "source": [
    "#visualizing vector data with leafmap\n",
    "import leafmap\n",
    "m=leafmap.Map(center=[0,0], zoom=0)\n",
    "data=\"https://open.gishub.org/data/vector/cables.geojson\"\n",
    "m.add_vector(data, layer_name=\"Cable lines\", info_mode='on_hover')\n",
    "m"
   ]
  },
  {
   "cell_type": "code",
   "execution_count": 7,
   "id": "15594555-21fe-4264-920e-0ca328931cdf",
   "metadata": {},
   "outputs": [
    {
     "data": {
      "application/vnd.jupyter.widget-view+json": {
       "model_id": "b3828e13fbcb4b24b9c025a9a5219d10",
       "version_major": 2,
       "version_minor": 0
      },
      "text/plain": [
       "Map(center=[0, 0], controls=(ZoomControl(options=['position', 'zoom_in_text', 'zoom_in_title', 'zoom_out_text'…"
      ]
     },
     "execution_count": 7,
     "metadata": {},
     "output_type": "execute_result"
    }
   ],
   "source": [
    "#styling with a custum callback functions\n",
    "\n",
    "m=leafmap.Map(center=[0,0], zoom=0)\n",
    "m.add_basemap(\"CartoDB.DarkMatter\")\n",
    "data=\"https://open.gishub.org/data/vector/cables.geojson\"\n",
    "callback=lambda feat: {\"color\": feat[\"properties\"][\"color\"], \"weight\":1}\n",
    "m.add_vector(data, layer_name=\"Cable lines\", style_callback=callback)\n",
    "m"
   ]
  },
  {
   "cell_type": "code",
   "execution_count": 8,
   "id": "15af4f35-b341-4c9e-ab81-b70b5e1b9c17",
   "metadata": {},
   "outputs": [
    {
     "data": {
      "application/vnd.jupyter.widget-view+json": {
       "model_id": "987aab5e23e94c10af56c082e8c026d9",
       "version_major": 2,
       "version_minor": 0
      },
      "text/plain": [
       "Map(center=[20, 0], controls=(ZoomControl(options=['position', 'zoom_in_text', 'zoom_in_title', 'zoom_out_text…"
      ]
     },
     "execution_count": 8,
     "metadata": {},
     "output_type": "execute_result"
    }
   ],
   "source": [
    "m = leafmap.Map()\n",
    "data = \"https://raw.githubusercontent.com/opengeos/leafmap/master/docs/data/countries.geojson\"\n",
    "m.add_data(\n",
    "    data, column=\"POP_EST\", scheme=\"Quantiles\", cmap=\"Blues\", legend_title=\"Population\"\n",
    ")\n",
    "m"
   ]
  },
  {
   "cell_type": "code",
   "execution_count": 11,
   "id": "91375845-3b1c-4218-bd97-e58f82964138",
   "metadata": {},
   "outputs": [
    {
     "data": {
      "text/html": [
       "<div>\n",
       "<style scoped>\n",
       "    .dataframe tbody tr th:only-of-type {\n",
       "        vertical-align: middle;\n",
       "    }\n",
       "\n",
       "    .dataframe tbody tr th {\n",
       "        vertical-align: top;\n",
       "    }\n",
       "\n",
       "    .dataframe thead th {\n",
       "        text-align: right;\n",
       "    }\n",
       "</style>\n",
       "<table border=\"1\" class=\"dataframe\">\n",
       "  <thead>\n",
       "    <tr style=\"text-align: right;\">\n",
       "      <th></th>\n",
       "      <th>country</th>\n",
       "      <th>id</th>\n",
       "      <th>latitude</th>\n",
       "      <th>longitude</th>\n",
       "      <th>name</th>\n",
       "      <th>population</th>\n",
       "      <th>geometry</th>\n",
       "    </tr>\n",
       "  </thead>\n",
       "  <tbody>\n",
       "    <tr>\n",
       "      <th>0</th>\n",
       "      <td>UGA</td>\n",
       "      <td>1.0</td>\n",
       "      <td>0.5833</td>\n",
       "      <td>32.5333</td>\n",
       "      <td>Bombo</td>\n",
       "      <td>75000.0</td>\n",
       "      <td>POINT (32.5333 0.5833)</td>\n",
       "    </tr>\n",
       "    <tr>\n",
       "      <th>1</th>\n",
       "      <td>UGA</td>\n",
       "      <td>2.0</td>\n",
       "      <td>0.6710</td>\n",
       "      <td>30.2750</td>\n",
       "      <td>Fort Portal</td>\n",
       "      <td>42670.0</td>\n",
       "      <td>POINT (30.275 0.671)</td>\n",
       "    </tr>\n",
       "    <tr>\n",
       "      <th>2</th>\n",
       "      <td>ITA</td>\n",
       "      <td>3.0</td>\n",
       "      <td>40.6420</td>\n",
       "      <td>15.7990</td>\n",
       "      <td>Potenza</td>\n",
       "      <td>69060.0</td>\n",
       "      <td>POINT (15.799 40.642)</td>\n",
       "    </tr>\n",
       "    <tr>\n",
       "      <th>3</th>\n",
       "      <td>ITA</td>\n",
       "      <td>4.0</td>\n",
       "      <td>41.5630</td>\n",
       "      <td>14.6560</td>\n",
       "      <td>Campobasso</td>\n",
       "      <td>50762.0</td>\n",
       "      <td>POINT (14.656 41.563)</td>\n",
       "    </tr>\n",
       "    <tr>\n",
       "      <th>4</th>\n",
       "      <td>ITA</td>\n",
       "      <td>5.0</td>\n",
       "      <td>45.7370</td>\n",
       "      <td>7.3150</td>\n",
       "      <td>Aosta</td>\n",
       "      <td>34062.0</td>\n",
       "      <td>POINT (7.315 45.737)</td>\n",
       "    </tr>\n",
       "  </tbody>\n",
       "</table>\n",
       "</div>"
      ],
      "text/plain": [
       "  country   id  latitude  longitude         name  population  \\\n",
       "0     UGA  1.0    0.5833    32.5333        Bombo     75000.0   \n",
       "1     UGA  2.0    0.6710    30.2750  Fort Portal     42670.0   \n",
       "2     ITA  3.0   40.6420    15.7990      Potenza     69060.0   \n",
       "3     ITA  4.0   41.5630    14.6560   Campobasso     50762.0   \n",
       "4     ITA  5.0   45.7370     7.3150        Aosta     34062.0   \n",
       "\n",
       "                 geometry  \n",
       "0  POINT (32.5333 0.5833)  \n",
       "1    POINT (30.275 0.671)  \n",
       "2   POINT (15.799 40.642)  \n",
       "3   POINT (14.656 41.563)  \n",
       "4    POINT (7.315 45.737)  "
      ]
     },
     "execution_count": 11,
     "metadata": {},
     "output_type": "execute_result"
    }
   ],
   "source": [
    "#visualize Geoparquet\n",
    "url=\"https://open.gishub.org/data/duckdb/cities.parquet\"\n",
    "gdf=leafmap.read_parquet(url, return_type=\"gdf\",src_crs=\"EPSG:4326\")\n",
    "gdf.head()"
   ]
  },
  {
   "cell_type": "code",
   "execution_count": 15,
   "id": "85c60e2f-c55c-4c37-9f41-1e605ebe2dd7",
   "metadata": {},
   "outputs": [
    {
     "name": "stdout",
     "output_type": "stream",
     "text": [
      "Requirement already satisfied: lonboard in /home/joshua/.local/share/virtualenvs/gis_programming-WoLEzrUT/lib/python3.10/site-packages (0.9.3)\n",
      "Requirement already satisfied: anywidget<0.10.0,>=0.9.0 in /home/joshua/.local/share/virtualenvs/gis_programming-WoLEzrUT/lib/python3.10/site-packages (from lonboard) (0.9.13)\n",
      "Requirement already satisfied: geopandas>=0.13 in /home/joshua/.local/share/virtualenvs/gis_programming-WoLEzrUT/lib/python3.10/site-packages (from lonboard) (1.0.1)\n",
      "Requirement already satisfied: matplotlib<4.0,>=3.7 in /home/joshua/.local/share/virtualenvs/gis_programming-WoLEzrUT/lib/python3.10/site-packages (from lonboard) (3.9.2)\n",
      "Requirement already satisfied: palettable<4.0.0,>=3.3.3 in /home/joshua/.local/share/virtualenvs/gis_programming-WoLEzrUT/lib/python3.10/site-packages (from lonboard) (3.3.3)\n",
      "Requirement already satisfied: pandas<3,>=2 in /home/joshua/.local/share/virtualenvs/gis_programming-WoLEzrUT/lib/python3.10/site-packages (from lonboard) (2.2.2)\n",
      "Requirement already satisfied: pyarrow>=14.0.1 in /home/joshua/.local/share/virtualenvs/gis_programming-WoLEzrUT/lib/python3.10/site-packages (from lonboard) (17.0.0)\n",
      "Requirement already satisfied: shapely<3,>=2 in /home/joshua/.local/share/virtualenvs/gis_programming-WoLEzrUT/lib/python3.10/site-packages (from lonboard) (2.0.6)\n",
      "Requirement already satisfied: typing-extensions<5.0.0,>=4.6.0 in /home/joshua/.local/share/virtualenvs/gis_programming-WoLEzrUT/lib/python3.10/site-packages (from lonboard) (4.12.2)\n",
      "Requirement already satisfied: ipywidgets>=7.6.0 in /home/joshua/.local/share/virtualenvs/gis_programming-WoLEzrUT/lib/python3.10/site-packages (from anywidget<0.10.0,>=0.9.0->lonboard) (8.1.5)\n",
      "Requirement already satisfied: psygnal>=0.8.1 in /home/joshua/.local/share/virtualenvs/gis_programming-WoLEzrUT/lib/python3.10/site-packages (from anywidget<0.10.0,>=0.9.0->lonboard) (0.11.1)\n",
      "Requirement already satisfied: numpy>=1.22 in /home/joshua/.local/share/virtualenvs/gis_programming-WoLEzrUT/lib/python3.10/site-packages (from geopandas>=0.13->lonboard) (2.1.1)\n",
      "Requirement already satisfied: pyogrio>=0.7.2 in /home/joshua/.local/share/virtualenvs/gis_programming-WoLEzrUT/lib/python3.10/site-packages (from geopandas>=0.13->lonboard) (0.9.0)\n",
      "Requirement already satisfied: packaging in /home/joshua/.local/share/virtualenvs/gis_programming-WoLEzrUT/lib/python3.10/site-packages (from geopandas>=0.13->lonboard) (24.1)\n",
      "Requirement already satisfied: pyproj>=3.3.0 in /home/joshua/.local/share/virtualenvs/gis_programming-WoLEzrUT/lib/python3.10/site-packages (from geopandas>=0.13->lonboard) (3.6.1)\n",
      "Requirement already satisfied: contourpy>=1.0.1 in /home/joshua/.local/share/virtualenvs/gis_programming-WoLEzrUT/lib/python3.10/site-packages (from matplotlib<4.0,>=3.7->lonboard) (1.3.0)\n",
      "Requirement already satisfied: cycler>=0.10 in /home/joshua/.local/share/virtualenvs/gis_programming-WoLEzrUT/lib/python3.10/site-packages (from matplotlib<4.0,>=3.7->lonboard) (0.12.1)\n",
      "Requirement already satisfied: fonttools>=4.22.0 in /home/joshua/.local/share/virtualenvs/gis_programming-WoLEzrUT/lib/python3.10/site-packages (from matplotlib<4.0,>=3.7->lonboard) (4.53.1)\n",
      "Requirement already satisfied: kiwisolver>=1.3.1 in /home/joshua/.local/share/virtualenvs/gis_programming-WoLEzrUT/lib/python3.10/site-packages (from matplotlib<4.0,>=3.7->lonboard) (1.4.7)\n",
      "Requirement already satisfied: pillow>=8 in /home/joshua/.local/share/virtualenvs/gis_programming-WoLEzrUT/lib/python3.10/site-packages (from matplotlib<4.0,>=3.7->lonboard) (10.4.0)\n",
      "Requirement already satisfied: pyparsing>=2.3.1 in /home/joshua/.local/share/virtualenvs/gis_programming-WoLEzrUT/lib/python3.10/site-packages (from matplotlib<4.0,>=3.7->lonboard) (3.1.4)\n",
      "Requirement already satisfied: python-dateutil>=2.7 in /home/joshua/.local/share/virtualenvs/gis_programming-WoLEzrUT/lib/python3.10/site-packages (from matplotlib<4.0,>=3.7->lonboard) (2.9.0.post0)\n",
      "Requirement already satisfied: pytz>=2020.1 in /home/joshua/.local/share/virtualenvs/gis_programming-WoLEzrUT/lib/python3.10/site-packages (from pandas<3,>=2->lonboard) (2024.1)\n",
      "Requirement already satisfied: tzdata>=2022.7 in /home/joshua/.local/share/virtualenvs/gis_programming-WoLEzrUT/lib/python3.10/site-packages (from pandas<3,>=2->lonboard) (2024.1)\n",
      "Requirement already satisfied: comm>=0.1.3 in /home/joshua/.local/share/virtualenvs/gis_programming-WoLEzrUT/lib/python3.10/site-packages (from ipywidgets>=7.6.0->anywidget<0.10.0,>=0.9.0->lonboard) (0.2.2)\n",
      "Requirement already satisfied: ipython>=6.1.0 in /home/joshua/.local/share/virtualenvs/gis_programming-WoLEzrUT/lib/python3.10/site-packages (from ipywidgets>=7.6.0->anywidget<0.10.0,>=0.9.0->lonboard) (8.27.0)\n",
      "Requirement already satisfied: traitlets>=4.3.1 in /home/joshua/.local/share/virtualenvs/gis_programming-WoLEzrUT/lib/python3.10/site-packages (from ipywidgets>=7.6.0->anywidget<0.10.0,>=0.9.0->lonboard) (5.14.3)\n",
      "Requirement already satisfied: widgetsnbextension~=4.0.12 in /home/joshua/.local/share/virtualenvs/gis_programming-WoLEzrUT/lib/python3.10/site-packages (from ipywidgets>=7.6.0->anywidget<0.10.0,>=0.9.0->lonboard) (4.0.13)\n",
      "Requirement already satisfied: jupyterlab-widgets~=3.0.12 in /home/joshua/.local/share/virtualenvs/gis_programming-WoLEzrUT/lib/python3.10/site-packages (from ipywidgets>=7.6.0->anywidget<0.10.0,>=0.9.0->lonboard) (3.0.13)\n",
      "Requirement already satisfied: certifi in /home/joshua/.local/share/virtualenvs/gis_programming-WoLEzrUT/lib/python3.10/site-packages (from pyogrio>=0.7.2->geopandas>=0.13->lonboard) (2024.8.30)\n",
      "Requirement already satisfied: six>=1.5 in /home/joshua/.local/share/virtualenvs/gis_programming-WoLEzrUT/lib/python3.10/site-packages (from python-dateutil>=2.7->matplotlib<4.0,>=3.7->lonboard) (1.16.0)\n",
      "Requirement already satisfied: decorator in /home/joshua/.local/share/virtualenvs/gis_programming-WoLEzrUT/lib/python3.10/site-packages (from ipython>=6.1.0->ipywidgets>=7.6.0->anywidget<0.10.0,>=0.9.0->lonboard) (5.1.1)\n",
      "Requirement already satisfied: jedi>=0.16 in /home/joshua/.local/share/virtualenvs/gis_programming-WoLEzrUT/lib/python3.10/site-packages (from ipython>=6.1.0->ipywidgets>=7.6.0->anywidget<0.10.0,>=0.9.0->lonboard) (0.19.1)\n",
      "Requirement already satisfied: matplotlib-inline in /home/joshua/.local/share/virtualenvs/gis_programming-WoLEzrUT/lib/python3.10/site-packages (from ipython>=6.1.0->ipywidgets>=7.6.0->anywidget<0.10.0,>=0.9.0->lonboard) (0.1.7)\n",
      "Requirement already satisfied: prompt-toolkit<3.1.0,>=3.0.41 in /home/joshua/.local/share/virtualenvs/gis_programming-WoLEzrUT/lib/python3.10/site-packages (from ipython>=6.1.0->ipywidgets>=7.6.0->anywidget<0.10.0,>=0.9.0->lonboard) (3.0.47)\n",
      "Requirement already satisfied: pygments>=2.4.0 in /home/joshua/.local/share/virtualenvs/gis_programming-WoLEzrUT/lib/python3.10/site-packages (from ipython>=6.1.0->ipywidgets>=7.6.0->anywidget<0.10.0,>=0.9.0->lonboard) (2.18.0)\n",
      "Requirement already satisfied: stack-data in /home/joshua/.local/share/virtualenvs/gis_programming-WoLEzrUT/lib/python3.10/site-packages (from ipython>=6.1.0->ipywidgets>=7.6.0->anywidget<0.10.0,>=0.9.0->lonboard) (0.6.3)\n",
      "Requirement already satisfied: exceptiongroup in /home/joshua/.local/share/virtualenvs/gis_programming-WoLEzrUT/lib/python3.10/site-packages (from ipython>=6.1.0->ipywidgets>=7.6.0->anywidget<0.10.0,>=0.9.0->lonboard) (1.2.2)\n",
      "Requirement already satisfied: pexpect>4.3 in /home/joshua/.local/share/virtualenvs/gis_programming-WoLEzrUT/lib/python3.10/site-packages (from ipython>=6.1.0->ipywidgets>=7.6.0->anywidget<0.10.0,>=0.9.0->lonboard) (4.9.0)\n",
      "Requirement already satisfied: parso<0.9.0,>=0.8.3 in /home/joshua/.local/share/virtualenvs/gis_programming-WoLEzrUT/lib/python3.10/site-packages (from jedi>=0.16->ipython>=6.1.0->ipywidgets>=7.6.0->anywidget<0.10.0,>=0.9.0->lonboard) (0.8.4)\n",
      "Requirement already satisfied: ptyprocess>=0.5 in /home/joshua/.local/share/virtualenvs/gis_programming-WoLEzrUT/lib/python3.10/site-packages (from pexpect>4.3->ipython>=6.1.0->ipywidgets>=7.6.0->anywidget<0.10.0,>=0.9.0->lonboard) (0.7.0)\n",
      "Requirement already satisfied: wcwidth in /home/joshua/.local/share/virtualenvs/gis_programming-WoLEzrUT/lib/python3.10/site-packages (from prompt-toolkit<3.1.0,>=3.0.41->ipython>=6.1.0->ipywidgets>=7.6.0->anywidget<0.10.0,>=0.9.0->lonboard) (0.2.13)\n",
      "Requirement already satisfied: executing>=1.2.0 in /home/joshua/.local/share/virtualenvs/gis_programming-WoLEzrUT/lib/python3.10/site-packages (from stack-data->ipython>=6.1.0->ipywidgets>=7.6.0->anywidget<0.10.0,>=0.9.0->lonboard) (2.1.0)\n",
      "Requirement already satisfied: asttokens>=2.1.0 in /home/joshua/.local/share/virtualenvs/gis_programming-WoLEzrUT/lib/python3.10/site-packages (from stack-data->ipython>=6.1.0->ipywidgets>=7.6.0->anywidget<0.10.0,>=0.9.0->lonboard) (2.4.1)\n",
      "Requirement already satisfied: pure-eval in /home/joshua/.local/share/virtualenvs/gis_programming-WoLEzrUT/lib/python3.10/site-packages (from stack-data->ipython>=6.1.0->ipywidgets>=7.6.0->anywidget<0.10.0,>=0.9.0->lonboard) (0.2.3)\n"
     ]
    }
   ],
   "source": [
    "! pip install lonboard"
   ]
  },
  {
   "cell_type": "code",
   "execution_count": 17,
   "id": "dfe0659d-c53c-474c-a8fb-8ba5d7bf5d66",
   "metadata": {},
   "outputs": [
    {
     "ename": "NameError",
     "evalue": "name 'ArrowDtype' is not defined",
     "output_type": "error",
     "traceback": [
      "\u001b[0;31m---------------------------------------------------------------------------\u001b[0m",
      "\u001b[0;31mNameError\u001b[0m                                 Traceback (most recent call last)",
      "Cell \u001b[0;32mIn[17], line 2\u001b[0m\n\u001b[1;32m      1\u001b[0m \u001b[38;5;66;03m#visualize point data\u001b[39;00m\n\u001b[0;32m----> 2\u001b[0m \u001b[43mleafmap\u001b[49m\u001b[38;5;241;43m.\u001b[39;49m\u001b[43mview_vector\u001b[49m\u001b[43m(\u001b[49m\n\u001b[1;32m      3\u001b[0m \u001b[43m    \u001b[49m\u001b[43mgdf\u001b[49m\u001b[43m,\u001b[49m\n\u001b[1;32m      4\u001b[0m \u001b[43m    \u001b[49m\u001b[43mget_radius\u001b[49m\u001b[38;5;241;43m=\u001b[39;49m\u001b[38;5;241;43m20000\u001b[39;49m\u001b[43m,\u001b[49m\n\u001b[1;32m      5\u001b[0m \u001b[43m    \u001b[49m\u001b[43mget_fill_color\u001b[49m\u001b[38;5;241;43m=\u001b[39;49m\u001b[38;5;124;43m\"\u001b[39;49m\u001b[38;5;124;43mblue\u001b[39;49m\u001b[38;5;124;43m\"\u001b[39;49m\u001b[43m,\u001b[49m\n\u001b[1;32m      6\u001b[0m \u001b[43m    \u001b[49m\u001b[43mzoom_to_layer\u001b[49m\u001b[38;5;241;43m=\u001b[39;49m\u001b[38;5;28;43;01mFalse\u001b[39;49;00m\u001b[43m,\u001b[49m\n\u001b[1;32m      7\u001b[0m \u001b[43m    \u001b[49m\u001b[43mmap_args\u001b[49m\u001b[38;5;241;43m=\u001b[39;49m\u001b[43m{\u001b[49m\u001b[38;5;124;43m\"\u001b[39;49m\u001b[38;5;124;43mcenter\u001b[39;49m\u001b[38;5;124;43m\"\u001b[39;49m\u001b[43m:\u001b[49m\u001b[43m \u001b[49m\u001b[43m(\u001b[49m\u001b[38;5;241;43m40\u001b[39;49m\u001b[43m,\u001b[49m\u001b[43m \u001b[49m\u001b[38;5;241;43m-\u001b[39;49m\u001b[38;5;241;43m100\u001b[39;49m\u001b[43m)\u001b[49m\u001b[43m,\u001b[49m\u001b[43m \u001b[49m\u001b[38;5;124;43m\"\u001b[39;49m\u001b[38;5;124;43mzoom\u001b[39;49m\u001b[38;5;124;43m\"\u001b[39;49m\u001b[43m:\u001b[49m\u001b[43m \u001b[49m\u001b[38;5;241;43m3\u001b[39;49m\u001b[43m,\u001b[49m\u001b[43m \u001b[49m\u001b[38;5;124;43m\"\u001b[39;49m\u001b[38;5;124;43mheight\u001b[39;49m\u001b[38;5;124;43m\"\u001b[39;49m\u001b[43m:\u001b[49m\u001b[43m \u001b[49m\u001b[38;5;241;43m500\u001b[39;49m\u001b[43m}\u001b[49m\u001b[43m,\u001b[49m\n\u001b[1;32m      8\u001b[0m \u001b[43m)\u001b[49m\n",
      "File \u001b[0;32m~/.local/share/virtualenvs/gis_programming-WoLEzrUT/lib/python3.10/site-packages/leafmap/__init__.py:71\u001b[0m, in \u001b[0;36mview_vector\u001b[0;34m(vector, zoom_to_layer, pickable, color_column, color_scheme, color_map, color_k, color_args, open_args, map_args, **kwargs)\u001b[0m\n\u001b[1;32m     68\u001b[0m \u001b[38;5;28;01mfrom\u001b[39;00m \u001b[38;5;21;01m.\u001b[39;00m\u001b[38;5;21;01mdeckgl\u001b[39;00m \u001b[38;5;28;01mimport\u001b[39;00m Map\n\u001b[1;32m     70\u001b[0m m \u001b[38;5;241m=\u001b[39m Map(\u001b[38;5;241m*\u001b[39m\u001b[38;5;241m*\u001b[39mmap_args)\n\u001b[0;32m---> 71\u001b[0m \u001b[43mm\u001b[49m\u001b[38;5;241;43m.\u001b[39;49m\u001b[43madd_vector\u001b[49m\u001b[43m(\u001b[49m\n\u001b[1;32m     72\u001b[0m \u001b[43m    \u001b[49m\u001b[43mvector\u001b[49m\u001b[43m,\u001b[49m\n\u001b[1;32m     73\u001b[0m \u001b[43m    \u001b[49m\u001b[43mzoom_to_layer\u001b[49m\u001b[43m,\u001b[49m\n\u001b[1;32m     74\u001b[0m \u001b[43m    \u001b[49m\u001b[43mpickable\u001b[49m\u001b[43m,\u001b[49m\n\u001b[1;32m     75\u001b[0m \u001b[43m    \u001b[49m\u001b[43mcolor_column\u001b[49m\u001b[43m,\u001b[49m\n\u001b[1;32m     76\u001b[0m \u001b[43m    \u001b[49m\u001b[43mcolor_scheme\u001b[49m\u001b[43m,\u001b[49m\n\u001b[1;32m     77\u001b[0m \u001b[43m    \u001b[49m\u001b[43mcolor_map\u001b[49m\u001b[43m,\u001b[49m\n\u001b[1;32m     78\u001b[0m \u001b[43m    \u001b[49m\u001b[43mcolor_k\u001b[49m\u001b[43m,\u001b[49m\n\u001b[1;32m     79\u001b[0m \u001b[43m    \u001b[49m\u001b[43mcolor_args\u001b[49m\u001b[43m,\u001b[49m\n\u001b[1;32m     80\u001b[0m \u001b[43m    \u001b[49m\u001b[43mopen_args\u001b[49m\u001b[43m,\u001b[49m\n\u001b[1;32m     81\u001b[0m \u001b[43m    \u001b[49m\u001b[38;5;241;43m*\u001b[39;49m\u001b[38;5;241;43m*\u001b[39;49m\u001b[43mkwargs\u001b[49m\u001b[43m,\u001b[49m\n\u001b[1;32m     82\u001b[0m \u001b[43m\u001b[49m\u001b[43m)\u001b[49m\n\u001b[1;32m     83\u001b[0m \u001b[38;5;28;01mreturn\u001b[39;00m m\n",
      "File \u001b[0;32m~/.local/share/virtualenvs/gis_programming-WoLEzrUT/lib/python3.10/site-packages/leafmap/deckgl.py:221\u001b[0m, in \u001b[0;36mMap.add_vector\u001b[0;34m(self, vector, zoom_to_layer, pickable, color_column, color_scheme, color_map, color_k, color_args, open_args, **kwargs)\u001b[0m\n\u001b[1;32m    219\u001b[0m \u001b[38;5;28;01melse\u001b[39;00m:\n\u001b[1;32m    220\u001b[0m     gdf \u001b[38;5;241m=\u001b[39m gpd\u001b[38;5;241m.\u001b[39mread_file(vector, \u001b[38;5;241m*\u001b[39m\u001b[38;5;241m*\u001b[39mopen_args)\n\u001b[0;32m--> 221\u001b[0m \u001b[38;5;28;43mself\u001b[39;49m\u001b[38;5;241;43m.\u001b[39;49m\u001b[43madd_gdf\u001b[49m\u001b[43m(\u001b[49m\n\u001b[1;32m    222\u001b[0m \u001b[43m    \u001b[49m\u001b[43mgdf\u001b[49m\u001b[43m,\u001b[49m\n\u001b[1;32m    223\u001b[0m \u001b[43m    \u001b[49m\u001b[43mzoom_to_layer\u001b[49m\u001b[43m,\u001b[49m\n\u001b[1;32m    224\u001b[0m \u001b[43m    \u001b[49m\u001b[43mpickable\u001b[49m\u001b[43m,\u001b[49m\n\u001b[1;32m    225\u001b[0m \u001b[43m    \u001b[49m\u001b[43mcolor_column\u001b[49m\u001b[43m,\u001b[49m\n\u001b[1;32m    226\u001b[0m \u001b[43m    \u001b[49m\u001b[43mcolor_scheme\u001b[49m\u001b[43m,\u001b[49m\n\u001b[1;32m    227\u001b[0m \u001b[43m    \u001b[49m\u001b[43mcolor_map\u001b[49m\u001b[43m,\u001b[49m\n\u001b[1;32m    228\u001b[0m \u001b[43m    \u001b[49m\u001b[43mcolor_k\u001b[49m\u001b[43m,\u001b[49m\n\u001b[1;32m    229\u001b[0m \u001b[43m    \u001b[49m\u001b[43mcolor_args\u001b[49m\u001b[43m,\u001b[49m\n\u001b[1;32m    230\u001b[0m \u001b[43m    \u001b[49m\u001b[38;5;241;43m*\u001b[39;49m\u001b[38;5;241;43m*\u001b[39;49m\u001b[43mkwargs\u001b[49m\u001b[43m,\u001b[49m\n\u001b[1;32m    231\u001b[0m \u001b[43m\u001b[49m\u001b[43m)\u001b[49m\n",
      "File \u001b[0;32m~/.local/share/virtualenvs/gis_programming-WoLEzrUT/lib/python3.10/site-packages/leafmap/deckgl.py:127\u001b[0m, in \u001b[0;36mMap.add_gdf\u001b[0;34m(self, gdf, zoom_to_layer, pickable, color_column, color_scheme, color_map, color_k, color_args, alpha, rescale, zoom, **kwargs)\u001b[0m\n\u001b[1;32m    125\u001b[0m     \u001b[38;5;28;01mif\u001b[39;00m \u001b[38;5;124m\"\u001b[39m\u001b[38;5;124mget_fill_color\u001b[39m\u001b[38;5;124m\"\u001b[39m \u001b[38;5;129;01mnot\u001b[39;00m \u001b[38;5;129;01min\u001b[39;00m kwargs:\n\u001b[1;32m    126\u001b[0m         kwargs[\u001b[38;5;124m\"\u001b[39m\u001b[38;5;124mget_fill_color\u001b[39m\u001b[38;5;124m\"\u001b[39m] \u001b[38;5;241m=\u001b[39m [\u001b[38;5;241m255\u001b[39m, \u001b[38;5;241m0\u001b[39m, \u001b[38;5;241m0\u001b[39m, \u001b[38;5;241m180\u001b[39m]\n\u001b[0;32m--> 127\u001b[0m     layer \u001b[38;5;241m=\u001b[39m \u001b[43mScatterplotLayer\u001b[49m\u001b[38;5;241;43m.\u001b[39;49m\u001b[43mfrom_geopandas\u001b[49m\u001b[43m(\u001b[49m\u001b[43mgdf\u001b[49m\u001b[43m,\u001b[49m\u001b[43m \u001b[49m\u001b[38;5;241;43m*\u001b[39;49m\u001b[38;5;241;43m*\u001b[39;49m\u001b[43mkwargs\u001b[49m\u001b[43m)\u001b[49m\n\u001b[1;32m    128\u001b[0m \u001b[38;5;28;01melif\u001b[39;00m geom_type \u001b[38;5;129;01min\u001b[39;00m [\u001b[38;5;124m\"\u001b[39m\u001b[38;5;124mLineString\u001b[39m\u001b[38;5;124m\"\u001b[39m, \u001b[38;5;124m\"\u001b[39m\u001b[38;5;124mMultiLineString\u001b[39m\u001b[38;5;124m\"\u001b[39m]:\n\u001b[1;32m    129\u001b[0m     \u001b[38;5;28;01mif\u001b[39;00m \u001b[38;5;124m\"\u001b[39m\u001b[38;5;124mget_width\u001b[39m\u001b[38;5;124m\"\u001b[39m \u001b[38;5;129;01mnot\u001b[39;00m \u001b[38;5;129;01min\u001b[39;00m kwargs:\n",
      "File \u001b[0;32m~/.local/share/virtualenvs/gis_programming-WoLEzrUT/lib/python3.10/site-packages/lonboard/_layer.py:969\u001b[0m, in \u001b[0;36mScatterplotLayer.from_geopandas\u001b[0;34m(cls, gdf, auto_downcast, **kwargs)\u001b[0m\n\u001b[1;32m    961\u001b[0m \u001b[38;5;129m@classmethod\u001b[39m\n\u001b[1;32m    962\u001b[0m \u001b[38;5;28;01mdef\u001b[39;00m \u001b[38;5;21mfrom_geopandas\u001b[39m(\n\u001b[1;32m    963\u001b[0m     \u001b[38;5;28mcls\u001b[39m,\n\u001b[0;32m   (...)\u001b[0m\n\u001b[1;32m    967\u001b[0m     \u001b[38;5;241m*\u001b[39m\u001b[38;5;241m*\u001b[39mkwargs: Unpack[ScatterplotLayerKwargs],\n\u001b[1;32m    968\u001b[0m ) \u001b[38;5;241m-\u001b[39m\u001b[38;5;241m>\u001b[39m Self:\n\u001b[0;32m--> 969\u001b[0m     \u001b[38;5;28;01mreturn\u001b[39;00m \u001b[38;5;28;43msuper\u001b[39;49m\u001b[43m(\u001b[49m\u001b[43m)\u001b[49m\u001b[38;5;241;43m.\u001b[39;49m\u001b[43mfrom_geopandas\u001b[49m\u001b[43m(\u001b[49m\u001b[43mgdf\u001b[49m\u001b[38;5;241;43m=\u001b[39;49m\u001b[43mgdf\u001b[49m\u001b[43m,\u001b[49m\u001b[43m \u001b[49m\u001b[43mauto_downcast\u001b[49m\u001b[38;5;241;43m=\u001b[39;49m\u001b[43mauto_downcast\u001b[49m\u001b[43m,\u001b[49m\u001b[43m \u001b[49m\u001b[38;5;241;43m*\u001b[39;49m\u001b[38;5;241;43m*\u001b[39;49m\u001b[43mkwargs\u001b[49m\u001b[43m)\u001b[49m\n",
      "File \u001b[0;32m~/.local/share/virtualenvs/gis_programming-WoLEzrUT/lib/python3.10/site-packages/lonboard/_layer.py:331\u001b[0m, in \u001b[0;36mBaseArrowLayer.from_geopandas\u001b[0;34m(cls, gdf, auto_downcast, **kwargs)\u001b[0m\n\u001b[1;32m    312\u001b[0m \u001b[38;5;250m\u001b[39m\u001b[38;5;124;03m\"\"\"Construct a Layer from a geopandas GeoDataFrame.\u001b[39;00m\n\u001b[1;32m    313\u001b[0m \n\u001b[1;32m    314\u001b[0m \u001b[38;5;124;03mThe GeoDataFrame will be reprojected to EPSG:4326 if it is not already in that\u001b[39;00m\n\u001b[0;32m   (...)\u001b[0m\n\u001b[1;32m    327\u001b[0m \u001b[38;5;124;03m    A Layer with the initialized data.\u001b[39;00m\n\u001b[1;32m    328\u001b[0m \u001b[38;5;124;03m\"\"\"\u001b[39;00m\n\u001b[1;32m    329\u001b[0m \u001b[38;5;28;01mif\u001b[39;00m auto_downcast:\n\u001b[1;32m    330\u001b[0m     \u001b[38;5;66;03m# Note: we don't deep copy because we don't need to clone geometries\u001b[39;00m\n\u001b[0;32m--> 331\u001b[0m     gdf \u001b[38;5;241m=\u001b[39m \u001b[43m_auto_downcast\u001b[49m\u001b[43m(\u001b[49m\u001b[43mgdf\u001b[49m\u001b[38;5;241;43m.\u001b[39;49m\u001b[43mcopy\u001b[49m\u001b[43m(\u001b[49m\u001b[43m)\u001b[49m\u001b[43m)\u001b[49m  \u001b[38;5;66;03m# type: ignore\u001b[39;00m\n\u001b[1;32m    333\u001b[0m table \u001b[38;5;241m=\u001b[39m geopandas_to_geoarrow(gdf)\n\u001b[1;32m    334\u001b[0m \u001b[38;5;28;01mreturn\u001b[39;00m \u001b[38;5;28mcls\u001b[39m(table\u001b[38;5;241m=\u001b[39mtable, \u001b[38;5;241m*\u001b[39m\u001b[38;5;241m*\u001b[39mkwargs)\n",
      "File \u001b[0;32m~/.local/share/virtualenvs/gis_programming-WoLEzrUT/lib/python3.10/site-packages/lonboard/_utils.py:57\u001b[0m, in \u001b[0;36mauto_downcast\u001b[0;34m(df)\u001b[0m\n\u001b[1;32m     44\u001b[0m \u001b[38;5;250m\u001b[39m\u001b[38;5;124;03m\"\"\"Automatically downcast types to smallest data size\u001b[39;00m\n\u001b[1;32m     45\u001b[0m \n\u001b[1;32m     46\u001b[0m \u001b[38;5;124;03mArgs:\u001b[39;00m\n\u001b[0;32m   (...)\u001b[0m\n\u001b[1;32m     50\u001b[0m \u001b[38;5;124;03m    DataFrame with downcasted data types\u001b[39;00m\n\u001b[1;32m     51\u001b[0m \u001b[38;5;124;03m\"\"\"\u001b[39;00m\n\u001b[1;32m     52\u001b[0m \u001b[38;5;66;03m# Convert objects to numeric types where possible.\u001b[39;00m\n\u001b[1;32m     53\u001b[0m \u001b[38;5;66;03m# Note: we have to exclude geometry because\u001b[39;00m\n\u001b[1;32m     54\u001b[0m \u001b[38;5;66;03m# `convert_dtypes(dtype_backend=\"pyarrow\")` fails on the geometory column, but we\u001b[39;00m\n\u001b[1;32m     55\u001b[0m \u001b[38;5;66;03m# also have to manually cast to a non-geo data frame because it'll fail to convert\u001b[39;00m\n\u001b[1;32m     56\u001b[0m \u001b[38;5;66;03m# dtypes on a GeoDataFrame without a geom col\u001b[39;00m\n\u001b[0;32m---> 57\u001b[0m casted_df \u001b[38;5;241m=\u001b[39m \u001b[43mpd\u001b[49m\u001b[38;5;241;43m.\u001b[39;49m\u001b[43mDataFrame\u001b[49m\u001b[43m(\u001b[49m\u001b[43mdf\u001b[49m\u001b[38;5;241;43m.\u001b[39;49m\u001b[43mselect_dtypes\u001b[49m\u001b[43m(\u001b[49m\u001b[43mexclude\u001b[49m\u001b[38;5;241;43m=\u001b[39;49m\u001b[38;5;124;43m\"\u001b[39;49m\u001b[38;5;124;43mgeometry\u001b[39;49m\u001b[38;5;124;43m\"\u001b[39;49m\u001b[43m)\u001b[49m\u001b[43m)\u001b[49m\u001b[38;5;241;43m.\u001b[39;49m\u001b[43mconvert_dtypes\u001b[49m\u001b[43m(\u001b[49m\n\u001b[1;32m     58\u001b[0m \u001b[43m    \u001b[49m\u001b[43minfer_objects\u001b[49m\u001b[38;5;241;43m=\u001b[39;49m\u001b[38;5;28;43;01mTrue\u001b[39;49;00m\u001b[43m,\u001b[49m\n\u001b[1;32m     59\u001b[0m \u001b[43m    \u001b[49m\u001b[43mconvert_string\u001b[49m\u001b[38;5;241;43m=\u001b[39;49m\u001b[38;5;28;43;01mTrue\u001b[39;49;00m\u001b[43m,\u001b[49m\n\u001b[1;32m     60\u001b[0m \u001b[43m    \u001b[49m\u001b[43mconvert_integer\u001b[49m\u001b[38;5;241;43m=\u001b[39;49m\u001b[38;5;28;43;01mTrue\u001b[39;49;00m\u001b[43m,\u001b[49m\n\u001b[1;32m     61\u001b[0m \u001b[43m    \u001b[49m\u001b[43mconvert_boolean\u001b[49m\u001b[38;5;241;43m=\u001b[39;49m\u001b[38;5;28;43;01mTrue\u001b[39;49;00m\u001b[43m,\u001b[49m\n\u001b[1;32m     62\u001b[0m \u001b[43m    \u001b[49m\u001b[43mconvert_floating\u001b[49m\u001b[38;5;241;43m=\u001b[39;49m\u001b[38;5;28;43;01mTrue\u001b[39;49;00m\u001b[43m,\u001b[49m\n\u001b[1;32m     63\u001b[0m \u001b[43m    \u001b[49m\u001b[43mdtype_backend\u001b[49m\u001b[38;5;241;43m=\u001b[39;49m\u001b[38;5;124;43m\"\u001b[39;49m\u001b[38;5;124;43mpyarrow\u001b[39;49m\u001b[38;5;124;43m\"\u001b[39;49m\u001b[43m,\u001b[49m\n\u001b[1;32m     64\u001b[0m \u001b[43m\u001b[49m\u001b[43m)\u001b[49m\n\u001b[1;32m     65\u001b[0m df[casted_df\u001b[38;5;241m.\u001b[39mcolumns] \u001b[38;5;241m=\u001b[39m casted_df\n\u001b[1;32m     67\u001b[0m \u001b[38;5;66;03m# Try to convert _all_ integer columns to unsigned integer columns, but use\u001b[39;00m\n\u001b[1;32m     68\u001b[0m \u001b[38;5;66;03m# errors='ignore' to return signed integer data types for columns with negative\u001b[39;00m\n\u001b[1;32m     69\u001b[0m \u001b[38;5;66;03m# integers.\u001b[39;00m\n",
      "File \u001b[0;32m~/.local/share/virtualenvs/gis_programming-WoLEzrUT/lib/python3.10/site-packages/pandas/core/generic.py:7031\u001b[0m, in \u001b[0;36mNDFrame.convert_dtypes\u001b[0;34m(self, infer_objects, convert_string, convert_integer, convert_boolean, convert_floating, dtype_backend)\u001b[0m\n\u001b[1;32m   6902\u001b[0m \u001b[38;5;250m\u001b[39m\u001b[38;5;124;03m\"\"\"\u001b[39;00m\n\u001b[1;32m   6903\u001b[0m \u001b[38;5;124;03mConvert columns to the best possible dtypes using dtypes supporting ``pd.NA``.\u001b[39;00m\n\u001b[1;32m   6904\u001b[0m \n\u001b[0;32m   (...)\u001b[0m\n\u001b[1;32m   7028\u001b[0m \u001b[38;5;124;03mdtype: string\u001b[39;00m\n\u001b[1;32m   7029\u001b[0m \u001b[38;5;124;03m\"\"\"\u001b[39;00m\n\u001b[1;32m   7030\u001b[0m check_dtype_backend(dtype_backend)\n\u001b[0;32m-> 7031\u001b[0m new_mgr \u001b[38;5;241m=\u001b[39m \u001b[38;5;28;43mself\u001b[39;49m\u001b[38;5;241;43m.\u001b[39;49m\u001b[43m_mgr\u001b[49m\u001b[38;5;241;43m.\u001b[39;49m\u001b[43mconvert_dtypes\u001b[49m\u001b[43m(\u001b[49m\u001b[43m  \u001b[49m\u001b[38;5;66;43;03m# type: ignore[union-attr]\u001b[39;49;00m\n\u001b[1;32m   7032\u001b[0m \u001b[43m    \u001b[49m\u001b[43minfer_objects\u001b[49m\u001b[38;5;241;43m=\u001b[39;49m\u001b[43minfer_objects\u001b[49m\u001b[43m,\u001b[49m\n\u001b[1;32m   7033\u001b[0m \u001b[43m    \u001b[49m\u001b[43mconvert_string\u001b[49m\u001b[38;5;241;43m=\u001b[39;49m\u001b[43mconvert_string\u001b[49m\u001b[43m,\u001b[49m\n\u001b[1;32m   7034\u001b[0m \u001b[43m    \u001b[49m\u001b[43mconvert_integer\u001b[49m\u001b[38;5;241;43m=\u001b[39;49m\u001b[43mconvert_integer\u001b[49m\u001b[43m,\u001b[49m\n\u001b[1;32m   7035\u001b[0m \u001b[43m    \u001b[49m\u001b[43mconvert_boolean\u001b[49m\u001b[38;5;241;43m=\u001b[39;49m\u001b[43mconvert_boolean\u001b[49m\u001b[43m,\u001b[49m\n\u001b[1;32m   7036\u001b[0m \u001b[43m    \u001b[49m\u001b[43mconvert_floating\u001b[49m\u001b[38;5;241;43m=\u001b[39;49m\u001b[43mconvert_floating\u001b[49m\u001b[43m,\u001b[49m\n\u001b[1;32m   7037\u001b[0m \u001b[43m    \u001b[49m\u001b[43mdtype_backend\u001b[49m\u001b[38;5;241;43m=\u001b[39;49m\u001b[43mdtype_backend\u001b[49m\u001b[43m,\u001b[49m\n\u001b[1;32m   7038\u001b[0m \u001b[43m\u001b[49m\u001b[43m)\u001b[49m\n\u001b[1;32m   7039\u001b[0m res \u001b[38;5;241m=\u001b[39m \u001b[38;5;28mself\u001b[39m\u001b[38;5;241m.\u001b[39m_constructor_from_mgr(new_mgr, axes\u001b[38;5;241m=\u001b[39mnew_mgr\u001b[38;5;241m.\u001b[39maxes)\n\u001b[1;32m   7040\u001b[0m \u001b[38;5;28;01mreturn\u001b[39;00m res\u001b[38;5;241m.\u001b[39m__finalize__(\u001b[38;5;28mself\u001b[39m, method\u001b[38;5;241m=\u001b[39m\u001b[38;5;124m\"\u001b[39m\u001b[38;5;124mconvert_dtypes\u001b[39m\u001b[38;5;124m\"\u001b[39m)\n",
      "File \u001b[0;32m~/.local/share/virtualenvs/gis_programming-WoLEzrUT/lib/python3.10/site-packages/pandas/core/internals/managers.py:455\u001b[0m, in \u001b[0;36mBaseBlockManager.convert_dtypes\u001b[0;34m(self, **kwargs)\u001b[0m\n\u001b[1;32m    452\u001b[0m \u001b[38;5;28;01melse\u001b[39;00m:\n\u001b[1;32m    453\u001b[0m     copy \u001b[38;5;241m=\u001b[39m \u001b[38;5;28;01mTrue\u001b[39;00m\n\u001b[0;32m--> 455\u001b[0m \u001b[38;5;28;01mreturn\u001b[39;00m \u001b[38;5;28;43mself\u001b[39;49m\u001b[38;5;241;43m.\u001b[39;49m\u001b[43mapply\u001b[49m\u001b[43m(\u001b[49m\n\u001b[1;32m    456\u001b[0m \u001b[43m    \u001b[49m\u001b[38;5;124;43m\"\u001b[39;49m\u001b[38;5;124;43mconvert_dtypes\u001b[39;49m\u001b[38;5;124;43m\"\u001b[39;49m\u001b[43m,\u001b[49m\u001b[43m \u001b[49m\u001b[43mcopy\u001b[49m\u001b[38;5;241;43m=\u001b[39;49m\u001b[43mcopy\u001b[49m\u001b[43m,\u001b[49m\u001b[43m \u001b[49m\u001b[43musing_cow\u001b[49m\u001b[38;5;241;43m=\u001b[39;49m\u001b[43musing_copy_on_write\u001b[49m\u001b[43m(\u001b[49m\u001b[43m)\u001b[49m\u001b[43m,\u001b[49m\u001b[43m \u001b[49m\u001b[38;5;241;43m*\u001b[39;49m\u001b[38;5;241;43m*\u001b[39;49m\u001b[43mkwargs\u001b[49m\n\u001b[1;32m    457\u001b[0m \u001b[43m\u001b[49m\u001b[43m)\u001b[49m\n",
      "File \u001b[0;32m~/.local/share/virtualenvs/gis_programming-WoLEzrUT/lib/python3.10/site-packages/pandas/core/internals/managers.py:363\u001b[0m, in \u001b[0;36mBaseBlockManager.apply\u001b[0;34m(self, f, align_keys, **kwargs)\u001b[0m\n\u001b[1;32m    361\u001b[0m         applied \u001b[38;5;241m=\u001b[39m b\u001b[38;5;241m.\u001b[39mapply(f, \u001b[38;5;241m*\u001b[39m\u001b[38;5;241m*\u001b[39mkwargs)\n\u001b[1;32m    362\u001b[0m     \u001b[38;5;28;01melse\u001b[39;00m:\n\u001b[0;32m--> 363\u001b[0m         applied \u001b[38;5;241m=\u001b[39m \u001b[38;5;28;43mgetattr\u001b[39;49m\u001b[43m(\u001b[49m\u001b[43mb\u001b[49m\u001b[43m,\u001b[49m\u001b[43m \u001b[49m\u001b[43mf\u001b[49m\u001b[43m)\u001b[49m\u001b[43m(\u001b[49m\u001b[38;5;241;43m*\u001b[39;49m\u001b[38;5;241;43m*\u001b[39;49m\u001b[43mkwargs\u001b[49m\u001b[43m)\u001b[49m\n\u001b[1;32m    364\u001b[0m     result_blocks \u001b[38;5;241m=\u001b[39m extend_blocks(applied, result_blocks)\n\u001b[1;32m    366\u001b[0m out \u001b[38;5;241m=\u001b[39m \u001b[38;5;28mtype\u001b[39m(\u001b[38;5;28mself\u001b[39m)\u001b[38;5;241m.\u001b[39mfrom_blocks(result_blocks, \u001b[38;5;28mself\u001b[39m\u001b[38;5;241m.\u001b[39maxes)\n",
      "File \u001b[0;32m~/.local/share/virtualenvs/gis_programming-WoLEzrUT/lib/python3.10/site-packages/pandas/core/internals/blocks.py:694\u001b[0m, in \u001b[0;36mBlock.convert_dtypes\u001b[0;34m(self, copy, using_cow, infer_objects, convert_string, convert_integer, convert_boolean, convert_floating, dtype_backend)\u001b[0m\n\u001b[1;32m    691\u001b[0m \u001b[38;5;28;01mfor\u001b[39;00m blk \u001b[38;5;129;01min\u001b[39;00m blks:\n\u001b[1;32m    692\u001b[0m     \u001b[38;5;66;03m# Determine dtype column by column\u001b[39;00m\n\u001b[1;32m    693\u001b[0m     sub_blks \u001b[38;5;241m=\u001b[39m [blk] \u001b[38;5;28;01mif\u001b[39;00m blk\u001b[38;5;241m.\u001b[39mndim \u001b[38;5;241m==\u001b[39m \u001b[38;5;241m1\u001b[39m \u001b[38;5;129;01mor\u001b[39;00m \u001b[38;5;28mself\u001b[39m\u001b[38;5;241m.\u001b[39mshape[\u001b[38;5;241m0\u001b[39m] \u001b[38;5;241m==\u001b[39m \u001b[38;5;241m1\u001b[39m \u001b[38;5;28;01melse\u001b[39;00m blk\u001b[38;5;241m.\u001b[39m_split()\n\u001b[0;32m--> 694\u001b[0m     dtypes \u001b[38;5;241m=\u001b[39m [\n\u001b[1;32m    695\u001b[0m         convert_dtypes(\n\u001b[1;32m    696\u001b[0m             b\u001b[38;5;241m.\u001b[39mvalues,\n\u001b[1;32m    697\u001b[0m             convert_string,\n\u001b[1;32m    698\u001b[0m             convert_integer,\n\u001b[1;32m    699\u001b[0m             convert_boolean,\n\u001b[1;32m    700\u001b[0m             convert_floating,\n\u001b[1;32m    701\u001b[0m             infer_objects,\n\u001b[1;32m    702\u001b[0m             dtype_backend,\n\u001b[1;32m    703\u001b[0m         )\n\u001b[1;32m    704\u001b[0m         \u001b[38;5;28;01mfor\u001b[39;00m b \u001b[38;5;129;01min\u001b[39;00m sub_blks\n\u001b[1;32m    705\u001b[0m     ]\n\u001b[1;32m    706\u001b[0m     \u001b[38;5;28;01mif\u001b[39;00m \u001b[38;5;28mall\u001b[39m(dtype \u001b[38;5;241m==\u001b[39m \u001b[38;5;28mself\u001b[39m\u001b[38;5;241m.\u001b[39mdtype \u001b[38;5;28;01mfor\u001b[39;00m dtype \u001b[38;5;129;01min\u001b[39;00m dtypes):\n\u001b[1;32m    707\u001b[0m         \u001b[38;5;66;03m# Avoid block splitting if no dtype changes\u001b[39;00m\n\u001b[1;32m    708\u001b[0m         rbs\u001b[38;5;241m.\u001b[39mappend(blk\u001b[38;5;241m.\u001b[39mcopy(deep\u001b[38;5;241m=\u001b[39mcopy))\n",
      "File \u001b[0;32m~/.local/share/virtualenvs/gis_programming-WoLEzrUT/lib/python3.10/site-packages/pandas/core/internals/blocks.py:695\u001b[0m, in \u001b[0;36m<listcomp>\u001b[0;34m(.0)\u001b[0m\n\u001b[1;32m    691\u001b[0m \u001b[38;5;28;01mfor\u001b[39;00m blk \u001b[38;5;129;01min\u001b[39;00m blks:\n\u001b[1;32m    692\u001b[0m     \u001b[38;5;66;03m# Determine dtype column by column\u001b[39;00m\n\u001b[1;32m    693\u001b[0m     sub_blks \u001b[38;5;241m=\u001b[39m [blk] \u001b[38;5;28;01mif\u001b[39;00m blk\u001b[38;5;241m.\u001b[39mndim \u001b[38;5;241m==\u001b[39m \u001b[38;5;241m1\u001b[39m \u001b[38;5;129;01mor\u001b[39;00m \u001b[38;5;28mself\u001b[39m\u001b[38;5;241m.\u001b[39mshape[\u001b[38;5;241m0\u001b[39m] \u001b[38;5;241m==\u001b[39m \u001b[38;5;241m1\u001b[39m \u001b[38;5;28;01melse\u001b[39;00m blk\u001b[38;5;241m.\u001b[39m_split()\n\u001b[1;32m    694\u001b[0m     dtypes \u001b[38;5;241m=\u001b[39m [\n\u001b[0;32m--> 695\u001b[0m         \u001b[43mconvert_dtypes\u001b[49m\u001b[43m(\u001b[49m\n\u001b[1;32m    696\u001b[0m \u001b[43m            \u001b[49m\u001b[43mb\u001b[49m\u001b[38;5;241;43m.\u001b[39;49m\u001b[43mvalues\u001b[49m\u001b[43m,\u001b[49m\n\u001b[1;32m    697\u001b[0m \u001b[43m            \u001b[49m\u001b[43mconvert_string\u001b[49m\u001b[43m,\u001b[49m\n\u001b[1;32m    698\u001b[0m \u001b[43m            \u001b[49m\u001b[43mconvert_integer\u001b[49m\u001b[43m,\u001b[49m\n\u001b[1;32m    699\u001b[0m \u001b[43m            \u001b[49m\u001b[43mconvert_boolean\u001b[49m\u001b[43m,\u001b[49m\n\u001b[1;32m    700\u001b[0m \u001b[43m            \u001b[49m\u001b[43mconvert_floating\u001b[49m\u001b[43m,\u001b[49m\n\u001b[1;32m    701\u001b[0m \u001b[43m            \u001b[49m\u001b[43minfer_objects\u001b[49m\u001b[43m,\u001b[49m\n\u001b[1;32m    702\u001b[0m \u001b[43m            \u001b[49m\u001b[43mdtype_backend\u001b[49m\u001b[43m,\u001b[49m\n\u001b[1;32m    703\u001b[0m \u001b[43m        \u001b[49m\u001b[43m)\u001b[49m\n\u001b[1;32m    704\u001b[0m         \u001b[38;5;28;01mfor\u001b[39;00m b \u001b[38;5;129;01min\u001b[39;00m sub_blks\n\u001b[1;32m    705\u001b[0m     ]\n\u001b[1;32m    706\u001b[0m     \u001b[38;5;28;01mif\u001b[39;00m \u001b[38;5;28mall\u001b[39m(dtype \u001b[38;5;241m==\u001b[39m \u001b[38;5;28mself\u001b[39m\u001b[38;5;241m.\u001b[39mdtype \u001b[38;5;28;01mfor\u001b[39;00m dtype \u001b[38;5;129;01min\u001b[39;00m dtypes):\n\u001b[1;32m    707\u001b[0m         \u001b[38;5;66;03m# Avoid block splitting if no dtype changes\u001b[39;00m\n\u001b[1;32m    708\u001b[0m         rbs\u001b[38;5;241m.\u001b[39mappend(blk\u001b[38;5;241m.\u001b[39mcopy(deep\u001b[38;5;241m=\u001b[39mcopy))\n",
      "File \u001b[0;32m~/.local/share/virtualenvs/gis_programming-WoLEzrUT/lib/python3.10/site-packages/pandas/core/dtypes/cast.py:1145\u001b[0m, in \u001b[0;36mconvert_dtypes\u001b[0;34m(input_array, convert_string, convert_integer, convert_boolean, convert_floating, infer_objects, dtype_backend)\u001b[0m\n\u001b[1;32m   1143\u001b[0m     pa_type \u001b[38;5;241m=\u001b[39m pa\u001b[38;5;241m.\u001b[39mnull()\n\u001b[1;32m   1144\u001b[0m \u001b[38;5;28;01melse\u001b[39;00m:\n\u001b[0;32m-> 1145\u001b[0m     pa_type \u001b[38;5;241m=\u001b[39m \u001b[43mto_pyarrow_type\u001b[49m\u001b[43m(\u001b[49m\u001b[43mbase_dtype\u001b[49m\u001b[43m)\u001b[49m\n\u001b[1;32m   1146\u001b[0m \u001b[38;5;28;01mif\u001b[39;00m pa_type \u001b[38;5;129;01mis\u001b[39;00m \u001b[38;5;129;01mnot\u001b[39;00m \u001b[38;5;28;01mNone\u001b[39;00m:\n\u001b[1;32m   1147\u001b[0m     inferred_dtype \u001b[38;5;241m=\u001b[39m ArrowDtype(pa_type)\n",
      "File \u001b[0;32m~/.local/share/virtualenvs/gis_programming-WoLEzrUT/lib/python3.10/site-packages/pandas/core/arrays/arrow/array.py:221\u001b[0m, in \u001b[0;36mto_pyarrow_type\u001b[0;34m(dtype)\u001b[0m\n\u001b[1;32m    215\u001b[0m \u001b[38;5;28;01mdef\u001b[39;00m \u001b[38;5;21mto_pyarrow_type\u001b[39m(\n\u001b[1;32m    216\u001b[0m     dtype: ArrowDtype \u001b[38;5;241m|\u001b[39m pa\u001b[38;5;241m.\u001b[39mDataType \u001b[38;5;241m|\u001b[39m Dtype \u001b[38;5;241m|\u001b[39m \u001b[38;5;28;01mNone\u001b[39;00m,\n\u001b[1;32m    217\u001b[0m ) \u001b[38;5;241m-\u001b[39m\u001b[38;5;241m>\u001b[39m pa\u001b[38;5;241m.\u001b[39mDataType \u001b[38;5;241m|\u001b[39m \u001b[38;5;28;01mNone\u001b[39;00m:\n\u001b[1;32m    218\u001b[0m \u001b[38;5;250m    \u001b[39m\u001b[38;5;124;03m\"\"\"\u001b[39;00m\n\u001b[1;32m    219\u001b[0m \u001b[38;5;124;03m    Convert dtype to a pyarrow type instance.\u001b[39;00m\n\u001b[1;32m    220\u001b[0m \u001b[38;5;124;03m    \"\"\"\u001b[39;00m\n\u001b[0;32m--> 221\u001b[0m     \u001b[38;5;28;01mif\u001b[39;00m \u001b[38;5;28misinstance\u001b[39m(dtype, \u001b[43mArrowDtype\u001b[49m):\n\u001b[1;32m    222\u001b[0m         \u001b[38;5;28;01mreturn\u001b[39;00m dtype\u001b[38;5;241m.\u001b[39mpyarrow_dtype\n\u001b[1;32m    223\u001b[0m     \u001b[38;5;28;01melif\u001b[39;00m \u001b[38;5;28misinstance\u001b[39m(dtype, pa\u001b[38;5;241m.\u001b[39mDataType):\n",
      "\u001b[0;31mNameError\u001b[0m: name 'ArrowDtype' is not defined"
     ]
    }
   ],
   "source": [
    "#visualize point data\n",
    "leafmap.view_vector(\n",
    "    gdf,\n",
    "    get_radius=20000,\n",
    "    get_fill_color=\"blue\",\n",
    "    zoom_to_layer=False,\n",
    "    map_args={\"center\": (40, -100), \"zoom\": 3, \"height\": 500},\n",
    ")"
   ]
  },
  {
   "cell_type": "code",
   "execution_count": null,
   "id": "38be6702-38ec-4fa7-a127-0edb8513ba31",
   "metadata": {},
   "outputs": [],
   "source": []
  }
 ],
 "metadata": {
  "kernelspec": {
   "display_name": "Python 3 (ipykernel)",
   "language": "python",
   "name": "python3"
  },
  "language_info": {
   "codemirror_mode": {
    "name": "ipython",
    "version": 3
   },
   "file_extension": ".py",
   "mimetype": "text/x-python",
   "name": "python",
   "nbconvert_exporter": "python",
   "pygments_lexer": "ipython3",
   "version": "3.10.12"
  }
 },
 "nbformat": 4,
 "nbformat_minor": 5
}
