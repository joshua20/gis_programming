{
 "cells": [
  {
   "cell_type": "code",
   "execution_count": 1,
   "id": "60bfa79e-bffe-4402-84ce-62803e95bccc",
   "metadata": {},
   "outputs": [],
   "source": [
    "import leafmap"
   ]
  },
  {
   "cell_type": "code",
   "execution_count": 6,
   "id": "b4ae1a0d-abee-4f36-88c1-f37da5af9ef6",
   "metadata": {},
   "outputs": [
    {
     "data": {
      "application/vnd.jupyter.widget-view+json": {
       "model_id": "a7424bd4a7c44dfcbeeeeef14e5ad698",
       "version_major": 2,
       "version_minor": 0
      },
      "text/plain": [
       "Map(center=[20, 0], controls=(ZoomControl(options=['position', 'zoom_in_text', 'zoom_in_title', 'zoom_out_text…"
      ]
     },
     "execution_count": 6,
     "metadata": {},
     "output_type": "execute_result"
    }
   ],
   "source": [
    "#visualizing raster images in leafmap\n",
    "m = leafmap.Map()\n",
    "url = \"https://opendata.digitalglobe.com/events/california-fire-2020/pre-event/2018-02-16/pine-gulch-fire20/1030010076004E00.tif\"\n",
    "m.add_cog_layer(url, name=\"Fire (pre-event)\")\n",
    "m"
   ]
  },
  {
   "cell_type": "code",
   "execution_count": 8,
   "id": "c5c93e69-73cf-4aaa-a12f-8962d1adc77f",
   "metadata": {},
   "outputs": [
    {
     "data": {
      "application/vnd.jupyter.widget-view+json": {
       "model_id": "a7424bd4a7c44dfcbeeeeef14e5ad698",
       "version_major": 2,
       "version_minor": 0
      },
      "text/plain": [
       "Map(bottom=3594.0, center=[33.211116472416855, -110.2587890625], controls=(ZoomControl(options=['position', 'z…"
      ]
     },
     "execution_count": 8,
     "metadata": {},
     "output_type": "execute_result"
    }
   ],
   "source": [
    "url2 = \"https://opendata.digitalglobe.com/events/california-fire-2020/post-event/2020-08-14/pine-gulch-fire20/10300100AAC8DD00.tif\"\n",
    "m.add_cog_layer(url2, name=\"Fire (post-event)\")\n",
    "m"
   ]
  },
  {
   "cell_type": "code",
   "execution_count": 11,
   "id": "b2ad37ca-fd51-41b4-84f2-bd99426f1124",
   "metadata": {},
   "outputs": [
    {
     "name": "stderr",
     "output_type": "stream",
     "text": [
      "Downloading...\n",
      "From: https://open.gishub.org/data/raster/srtm90.tif\n",
      "To: /home/joshua/geospatial/gis_programming/geopython/srtm90.tif\n",
      "\n",
      "\n",
      "  0%|                                                                               | 0.00/16.6M [00:00<?, ?B/s]\u001b[A\u001b[A\n",
      "\n",
      "  3%|██▎                                                                     | 524k/16.6M [00:02<01:17, 207kB/s]\u001b[A\u001b[A\n",
      "\n",
      "  6%|████▍                                                                  | 1.05M/16.6M [00:04<01:08, 225kB/s]\u001b[A\u001b[A\n",
      "\n",
      "  9%|██████▋                                                                | 1.57M/16.6M [00:07<01:10, 213kB/s]\u001b[A\u001b[A\n",
      "\n",
      " 13%|████████▉                                                              | 2.10M/16.6M [00:09<01:09, 208kB/s]\u001b[A\u001b[A\n",
      "\n",
      " 16%|███████████▏                                                           | 2.62M/16.6M [00:12<01:03, 218kB/s]\u001b[A\u001b[A\n",
      "\n",
      " 19%|█████████████▍                                                         | 3.15M/16.6M [00:14<01:01, 219kB/s]\u001b[A\u001b[A\n",
      "\n",
      " 22%|███████████████▋                                                       | 3.67M/16.6M [00:17<01:00, 215kB/s]\u001b[A\u001b[A\n",
      "\n",
      " 25%|█████████████████▉                                                     | 4.19M/16.6M [00:19<00:57, 214kB/s]\u001b[A\u001b[A\n",
      "\n",
      " 28%|████████████████████▏                                                  | 4.72M/16.6M [00:22<00:56, 208kB/s]\u001b[A\u001b[A\n",
      "\n",
      " 32%|██████████████████████▍                                                | 5.24M/16.6M [00:24<00:55, 205kB/s]\u001b[A\u001b[A\n",
      "\n",
      " 35%|████████████████████████▋                                              | 5.77M/16.6M [00:27<00:52, 206kB/s]\u001b[A\u001b[A\n",
      "\n",
      " 38%|██████████████████████████▉                                            | 6.29M/16.6M [00:29<00:48, 214kB/s]\u001b[A\u001b[A\n",
      "\n",
      " 41%|█████████████████████████████▏                                         | 6.82M/16.6M [00:32<00:48, 200kB/s]\u001b[A\u001b[A\n",
      "\n",
      " 44%|███████████████████████████████▍                                       | 7.34M/16.6M [00:36<00:52, 178kB/s]\u001b[A\u001b[A\n",
      "\n",
      " 47%|█████████████████████████████████▋                                     | 7.86M/16.6M [00:39<00:50, 174kB/s]\u001b[A\u001b[A\n",
      "\n",
      " 51%|███████████████████████████████████▉                                   | 8.39M/16.6M [00:42<00:46, 175kB/s]\u001b[A\u001b[A\n",
      "\n",
      " 54%|██████████████████████████████████████▏                                | 8.91M/16.6M [00:45<00:44, 171kB/s]\u001b[A\u001b[A\n",
      "\n",
      " 57%|████████████████████████████████████████▍                              | 9.44M/16.6M [00:48<00:40, 178kB/s]\u001b[A\u001b[A\n",
      "\n",
      " 60%|██████████████████████████████████████████▋                            | 9.96M/16.6M [00:50<00:35, 185kB/s]\u001b[A\u001b[A\n",
      "\n",
      " 63%|████████████████████████████████████████████▉                          | 10.5M/16.6M [00:53<00:30, 200kB/s]\u001b[A\u001b[A\n",
      "\n",
      " 66%|███████████████████████████████████████████████▏                       | 11.0M/16.6M [00:55<00:27, 201kB/s]\u001b[A\u001b[A\n",
      "\n",
      " 70%|█████████████████████████████████████████████████▍                     | 11.5M/16.6M [00:58<00:24, 202kB/s]\u001b[A\u001b[A\n",
      "\n",
      " 73%|███████████████████████████████████████████████████▌                   | 12.1M/16.6M [01:00<00:22, 199kB/s]\u001b[A\u001b[A\n",
      "\n",
      " 76%|█████████████████████████████████████████████████████▊                 | 12.6M/16.6M [01:03<00:20, 197kB/s]\u001b[A\u001b[A\n",
      "\n",
      " 79%|████████████████████████████████████████████████████████               | 13.1M/16.6M [01:10<00:26, 130kB/s]\u001b[A\u001b[A\n",
      "\n",
      " 82%|█████████████████████████████████████████████████████████▌            | 13.6M/16.6M [01:20<00:31, 92.7kB/s]\u001b[A\u001b[A\n",
      "\n",
      " 85%|████████████████████████████████████████████████████████████▌          | 14.2M/16.6M [01:24<00:24, 101kB/s]\u001b[A\u001b[A\n",
      "\n",
      " 89%|██████████████████████████████████████████████████████████████▊        | 14.7M/16.6M [01:29<00:18, 101kB/s]\u001b[A\u001b[A\n",
      "\n",
      " 92%|████████████████████████████████████████████████████████████████▏     | 15.2M/16.6M [01:37<00:15, 87.7kB/s]\u001b[A\u001b[A\n",
      "\n",
      " 95%|██████████████████████████████████████████████████████████████████▍   | 15.7M/16.6M [01:47<00:11, 73.5kB/s]\u001b[A\u001b[A\n",
      "\n",
      " 98%|████████████████████████████████████████████████████████████████████▌ | 16.3M/16.6M [01:52<00:04, 79.3kB/s]\u001b[A\u001b[A\n",
      "\n",
      "100%|███████████████████████████████████████████████████████████████████████| 16.6M/16.6M [01:57<00:00, 141kB/s]\u001b[A\u001b[A\n"
     ]
    },
    {
     "data": {
      "text/plain": [
       "'/home/joshua/geospatial/gis_programming/geopython/srtm90.tif'"
      ]
     },
     "execution_count": 11,
     "metadata": {},
     "output_type": "execute_result"
    }
   ],
   "source": [
    "#visualizing local raster images\n",
    "\n",
    "#download an image\n",
    "dem_url=\"https://open.gishub.org/data/raster/srtm90.tif\"\n",
    "leafmap.download_file(dem_url, unzip=False)\n"
   ]
  },
  {
   "cell_type": "code",
   "execution_count": 15,
   "id": "518ec419-a008-469e-8f96-28bf82e0c60d",
   "metadata": {},
   "outputs": [
    {
     "data": {
      "application/vnd.jupyter.widget-view+json": {
       "model_id": "4c872723882d4d1bac07fa104f944321",
       "version_major": 2,
       "version_minor": 0
      },
      "text/plain": [
       "Map(center=[37.630466999999996, -119.03021849999999], controls=(ZoomControl(options=['position', 'zoom_in_text…"
      ]
     },
     "execution_count": 15,
     "metadata": {},
     "output_type": "execute_result"
    }
   ],
   "source": [
    "m = leafmap.Map()\n",
    "m.add_raster(\"srtm90.tif\", cmap=\"terrain\", layer_name=\"DEM\")\n",
    "m"
   ]
  },
  {
   "cell_type": "code",
   "execution_count": 16,
   "id": "070aebcc-41f5-4de2-8e14-49a7a6e2eb49",
   "metadata": {},
   "outputs": [
    {
     "name": "stderr",
     "output_type": "stream",
     "text": [
      "Downloading...\n",
      "From: https://open.gishub.org/data/raster/cog.tif\n",
      "To: /home/joshua/geospatial/gis_programming/geopython/cog.tif\n",
      "100%|█████████████████████████████████████████████████████████████████████████| 611k/611k [00:03<00:00, 154kB/s]\n"
     ]
    },
    {
     "data": {
      "text/plain": [
       "'/home/joshua/geospatial/gis_programming/geopython/cog.tif'"
      ]
     },
     "execution_count": 16,
     "metadata": {},
     "output_type": "execute_result"
    }
   ],
   "source": [
    "#more raster images visualization\n",
    "\n",
    "landsat_url=\"https://open.gishub.org/data/raster/cog.tif\"\n",
    "leafmap.download_file(landsat_url)"
   ]
  },
  {
   "cell_type": "code",
   "execution_count": 17,
   "id": "c951d1f5-7897-4f94-9e04-0551466d4df5",
   "metadata": {},
   "outputs": [
    {
     "data": {
      "application/vnd.jupyter.widget-view+json": {
       "model_id": "a38b1c44874d43a586e81521c7e95149",
       "version_major": 2,
       "version_minor": 0
      },
      "text/plain": [
       "Map(center=[53.4070895, 6.8754805], controls=(ZoomControl(options=['position', 'zoom_in_text', 'zoom_in_title'…"
      ]
     },
     "execution_count": 17,
     "metadata": {},
     "output_type": "execute_result"
    }
   ],
   "source": [
    "m=leafmap.Map()\n",
    "m.add_raster(\"cog.tif\", bands=[4, 3, 2], layer_name=\"Landsat\")\n",
    "m"
   ]
  },
  {
   "cell_type": "code",
   "execution_count": 18,
   "id": "7f5d16f2-ac5c-423e-b873-12cc1ac3dd80",
   "metadata": {},
   "outputs": [
    {
     "data": {
      "text/plain": [
       "['pan', 'B1', 'B2', 'B3', 'B4']"
      ]
     },
     "execution_count": 18,
     "metadata": {},
     "output_type": "execute_result"
    }
   ],
   "source": [
    "#visualizing STAC images\n",
    "\n",
    "url = \"https://canada-spot-ortho.s3.amazonaws.com/canada_spot_orthoimages/canada_spot5_orthoimages/S5_2007/S5_11055_6057_20070622/S5_11055_6057_20070622.json\"\n",
    "leafmap.stac_bands(url)"
   ]
  },
  {
   "cell_type": "code",
   "execution_count": 24,
   "id": "cd814c85-edf5-4b5c-9e53-156f5bb6d681",
   "metadata": {},
   "outputs": [
    {
     "data": {
      "application/vnd.jupyter.widget-view+json": {
       "model_id": "d0ce89b68622487a9d830b67e093f07a",
       "version_major": 2,
       "version_minor": 0
      },
      "text/plain": [
       "Map(center=[20, 0], controls=(ZoomControl(options=['position', 'zoom_in_text', 'zoom_in_title', 'zoom_out_text…"
      ]
     },
     "execution_count": 24,
     "metadata": {},
     "output_type": "execute_result"
    }
   ],
   "source": [
    "m = leafmap.Map()\n",
    "m.add_stac_layer(url, bands=[\"pan\"], name=\"Panchromatic\")\n",
    "m.add_stac_layer(url, bands=[\"B3\", \"B2\", \"B1\"], name=\"False color\")\n",
    "m"
   ]
  },
  {
   "cell_type": "code",
   "execution_count": null,
   "id": "b5c1ceb0-4572-4b5b-b0e1-32d696af9982",
   "metadata": {},
   "outputs": [],
   "source": []
  }
 ],
 "metadata": {
  "kernelspec": {
   "display_name": "Python 3 (ipykernel)",
   "language": "python",
   "name": "python3"
  },
  "language_info": {
   "codemirror_mode": {
    "name": "ipython",
    "version": 3
   },
   "file_extension": ".py",
   "mimetype": "text/x-python",
   "name": "python",
   "nbconvert_exporter": "python",
   "pygments_lexer": "ipython3",
   "version": "3.10.12"
  }
 },
 "nbformat": 4,
 "nbformat_minor": 5
}
