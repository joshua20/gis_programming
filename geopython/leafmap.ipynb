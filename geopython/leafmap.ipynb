{
 "cells": [
  {
   "cell_type": "markdown",
   "id": "8af5c862-32be-4f21-9cfd-e50a1c8e0860",
   "metadata": {},
   "source": [
    "LEAFMAP"
   ]
  },
  {
   "cell_type": "code",
   "execution_count": 1,
   "id": "1df57869-a9b1-46bd-b554-f6ca66a84137",
   "metadata": {},
   "outputs": [],
   "source": [
    "import leafmap"
   ]
  },
  {
   "cell_type": "code",
   "execution_count": 12,
   "id": "ca9c91df-28a8-4970-9e7e-634d021c7d0d",
   "metadata": {
    "scrolled": true
   },
   "outputs": [
    {
     "data": {
      "application/vnd.jupyter.widget-view+json": {
       "model_id": "4c63671340604a8ba6db777e30dc04b8",
       "version_major": 2,
       "version_minor": 0
      },
      "text/plain": [
       "Map(center=[1.287, 36.78], controls=(ZoomControl(options=['position', 'zoom_in_text', 'zoom_in_title', 'zoom_o…"
      ]
     },
     "execution_count": 12,
     "metadata": {},
     "output_type": "execute_result"
    }
   ],
   "source": [
    "m=leafmap.Map(center=(1.287,36.78), zoom=5)\n",
    "m"
   ]
  },
  {
   "cell_type": "code",
   "execution_count": 14,
   "id": "06201d7a-de5b-4516-a30d-f07f73588e0f",
   "metadata": {},
   "outputs": [
    {
     "data": {
      "application/vnd.jupyter.widget-view+json": {
       "model_id": "d0e1bacb6daa454e882a1bbda6e0c543",
       "version_major": 2,
       "version_minor": 0
      },
      "text/plain": [
       "Map(center=[20, 0], controls=(ZoomControl(options=['position', 'zoom_in_text', 'zoom_in_title', 'zoom_out_text…"
      ]
     },
     "execution_count": 14,
     "metadata": {},
     "output_type": "execute_result"
    }
   ],
   "source": [
    "#customize map height\n",
    "m=leafmap.Map(height=\"400px\")\n",
    "m"
   ]
  },
  {
   "cell_type": "code",
   "execution_count": 15,
   "id": "4eec9dc9-ed3a-4eeb-981a-10c3c44d0285",
   "metadata": {},
   "outputs": [
    {
     "data": {
      "application/vnd.jupyter.widget-view+json": {
       "model_id": "49cebea073eb4143817a2069c8a420f0",
       "version_major": 2,
       "version_minor": 0
      },
      "text/plain": [
       "Map(center=[20, 0], controls=(ZoomControl(options=['position', 'zoom_in_text', 'zoom_in_title', 'zoom_out_text…"
      ]
     },
     "execution_count": 15,
     "metadata": {},
     "output_type": "execute_result"
    }
   ],
   "source": [
    "#set control visibility\n",
    "\n",
    "m=leafmap.Map(\n",
    "    draw_control=False,\n",
    "    measure_control=False,\n",
    "    fullscreen_control=False,\n",
    "    attributtion_control=True\n",
    ")\n",
    "m"
   ]
  },
  {
   "cell_type": "code",
   "execution_count": 16,
   "id": "6afb7943-5ba6-4222-9755-26578ac5aefd",
   "metadata": {},
   "outputs": [
    {
     "data": {
      "application/vnd.jupyter.widget-view+json": {
       "model_id": "a03a4778e6f841b0a576bf5ddd6b6827",
       "version_major": 2,
       "version_minor": 0
      },
      "text/plain": [
       "Map(center=[20, 0], controls=(ZoomControl(options=['position', 'zoom_in_text', 'zoom_in_title', 'zoom_out_text…"
      ]
     },
     "execution_count": 16,
     "metadata": {},
     "output_type": "execute_result"
    }
   ],
   "source": [
    "#change base maps\n",
    "\n",
    "m=leafmap.Map()\n",
    "m.add_basemap(\"OpenTopoMap\")\n",
    "m"
   ]
  },
  {
   "cell_type": "code",
   "execution_count": 18,
   "id": "82096496-4ce7-4082-824c-a0dcc924f5be",
   "metadata": {},
   "outputs": [
    {
     "data": {
      "application/vnd.jupyter.widget-view+json": {
       "model_id": "772d3934b38a46cba55f8814a48b3342",
       "version_major": 2,
       "version_minor": 0
      },
      "text/plain": [
       "Map(center=[20, 0], controls=(ZoomControl(options=['position', 'zoom_in_text', 'zoom_in_title', 'zoom_out_text…"
      ]
     },
     "execution_count": 18,
     "metadata": {},
     "output_type": "execute_result"
    }
   ],
   "source": [
    "#add xyz tile layer\n",
    "m=leafmap.Map()\n",
    "m.add_tile_layer(\n",
    "    url=\"https://mt1.google.com/vt/lyrs=y&x={x}&y={y}&z={z}\",\n",
    "    name=\"Google Satellite\",\n",
    "    attribution=\"Google\",\n",
    ")\n",
    "m\n",
    "    "
   ]
  },
  {
   "cell_type": "markdown",
   "id": "404c6b4c-4065-46d4-85f9-03d1c1893f5a",
   "metadata": {},
   "source": [
    "ADDING WMS TILE LAYER"
   ]
  },
  {
   "cell_type": "code",
   "execution_count": 21,
   "id": "08a2c130-98cb-410f-b56b-9b6d0f9f7b05",
   "metadata": {},
   "outputs": [
    {
     "data": {
      "application/vnd.jupyter.widget-view+json": {
       "model_id": "827f487c02aa4f59b91e5456c7df59a5",
       "version_major": 2,
       "version_minor": 0
      },
      "text/plain": [
       "Map(center=[-1.287, 36.7899], controls=(ZoomControl(options=['position', 'zoom_in_text', 'zoom_in_title', 'zoo…"
      ]
     },
     "execution_count": 21,
     "metadata": {},
     "output_type": "execute_result"
    }
   ],
   "source": [
    "m=leafmap.Map(center=[-1.287,36.7899],zoom=5)\n",
    "url=\"https://imagery.nationalmap.gov/arcgis/services/USGSNAIPImagery/ImageServer/WMSServer?\"\n",
    "m.add_wms_layer(\n",
    "    url=url,\n",
    "    layers=\"USGSNAIPImagery:FalseColorComposite\",\n",
    "    name=\"NAIP\",\n",
    "    attribution=\"USGS\",\n",
    "    format=\"image/png\",\n",
    "    shown=True,\n",
    ")\n",
    "m"
   ]
  },
  {
   "cell_type": "code",
   "execution_count": 24,
   "id": "88db5388-a1c2-4645-9d2c-6beb3ea6f5f2",
   "metadata": {},
   "outputs": [
    {
     "data": {
      "application/vnd.jupyter.widget-view+json": {
       "model_id": "e1320e50f0074f9eb4f02c00229a7c90",
       "version_major": 2,
       "version_minor": 0
      },
      "text/plain": [
       "Map(center=[40, -100], controls=(ZoomControl(options=['position', 'zoom_in_text', 'zoom_in_title', 'zoom_out_t…"
      ]
     },
     "execution_count": 24,
     "metadata": {},
     "output_type": "execute_result"
    }
   ],
   "source": [
    "#add a legend to leafmap\n",
    "m=leafmap.Map(center=[40, -100],zoom=4)\n",
    "url = \"https://www.mrlc.gov/geoserver/mrlc_display/NLCD_2021_Land_Cover_L48/wms?\"\n",
    "m.add_wms_layer(\n",
    "    url=url,\n",
    "    layers=\"NLCD_2021_Land_Cover_L48\",\n",
    "    name=\"NCLD 2021\",\n",
    "    attribution=\"MRLC\",\n",
    "    formart=\"image/png\",\n",
    "    shown=True,\n",
    "    \n",
    ")\n",
    "m.add_legend(title=\"NLCD Land Cover Type\", builtin_legend=\"NLCD\")\n",
    "m"
   ]
  },
  {
   "cell_type": "code",
   "execution_count": 25,
   "id": "ca1903cb-f95b-4c4e-bb30-be9a8291ea1e",
   "metadata": {},
   "outputs": [
    {
     "data": {
      "application/vnd.jupyter.widget-view+json": {
       "model_id": "dcf3adfdaaed4b99a294d92362a04843",
       "version_major": 2,
       "version_minor": 0
      },
      "text/plain": [
       "Map(center=[20, 0], controls=(ZoomControl(options=['position', 'zoom_in_text', 'zoom_in_title', 'zoom_out_text…"
      ]
     },
     "execution_count": 25,
     "metadata": {},
     "output_type": "execute_result"
    }
   ],
   "source": [
    "#add colorbar\n",
    "\n",
    "m=leafmap.Map()\n",
    "m.add_basemap(\"OpenTopoMap\")\n",
    "m.add_colormap(\n",
    "    \"terrain\",\n",
    "    label=\"Elevation\",\n",
    "    orientation=\"horizontal\",\n",
    "    vmin=0,\n",
    "    vmax=4000,\n",
    ")\n",
    "m"
   ]
  },
  {
   "cell_type": "code",
   "execution_count": null,
   "id": "149c5f45-5a24-4ced-a168-5c1ad28dd46a",
   "metadata": {},
   "outputs": [],
   "source": []
  }
 ],
 "metadata": {
  "kernelspec": {
   "display_name": "Python 3 (ipykernel)",
   "language": "python",
   "name": "python3"
  },
  "language_info": {
   "codemirror_mode": {
    "name": "ipython",
    "version": 3
   },
   "file_extension": ".py",
   "mimetype": "text/x-python",
   "name": "python",
   "nbconvert_exporter": "python",
   "pygments_lexer": "ipython3",
   "version": "3.10.12"
  }
 },
 "nbformat": 4,
 "nbformat_minor": 5
}
