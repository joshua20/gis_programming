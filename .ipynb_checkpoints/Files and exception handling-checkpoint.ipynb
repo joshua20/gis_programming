{
 "cells": [
  {
   "cell_type": "markdown",
   "id": "b203a4ef-614e-43ad-8259-cff0373ba485",
   "metadata": {},
   "source": [
    "creating a file"
   ]
  },
  {
   "cell_type": "code",
   "execution_count": 1,
   "id": "d556767a-abdb-4f63-a92c-9659f5809eac",
   "metadata": {},
   "outputs": [],
   "source": [
    "sample_data= \"\"\"35.6895,139.6917\n",
    "34.0522,-118.2437\n",
    "51.5074,-0.1278\n",
    "-33.8688,151.2093\n",
    "48.8566,2.3522\"\"\""
   ]
  },
  {
   "cell_type": "code",
   "execution_count": 2,
   "id": "490183e5-59c8-4284-b5a7-105dfa853eec",
   "metadata": {},
   "outputs": [],
   "source": [
    "output_file=\"coordinates.txt\""
   ]
  },
  {
   "cell_type": "code",
   "execution_count": 3,
   "id": "482912cb-4775-4426-b760-ff84c6f00fbf",
   "metadata": {},
   "outputs": [
    {
     "name": "stdout",
     "output_type": "stream",
     "text": [
      "Sample file 'coordinates.txt' has been created succesifully\n"
     ]
    }
   ],
   "source": [
    "try:\n",
    "    with open(output_file, \"w\") as file:\n",
    "        file.write(sample_data)\n",
    "    print(f\"Sample file '{output_file}' has been created succesifully\")\n",
    "except Exception as e:\n",
    "    print(f\"an error occured while creating the file: {e}\")\n",
    "\n",
    "    "
   ]
  },
  {
   "cell_type": "markdown",
   "id": "d58179eb-a007-49bd-8896-b2dc34cd1939",
   "metadata": {},
   "source": [
    "WORKING WITH FILES"
   ]
  },
  {
   "cell_type": "code",
   "execution_count": 4,
   "id": "95fb345b-f5af-46f0-a34d-ea5dc87dce31",
   "metadata": {},
   "outputs": [
    {
     "name": "stdout",
     "output_type": "stream",
     "text": [
      "Error: The file coordinates.txt was not found.\n"
     ]
    }
   ],
   "source": [
    "#example of reading coordinates form a file\n",
    "input_file=\"coordinates.txt\"\n",
    "output_file=\"output_coords.txt\"\n",
    "\n",
    "try: \n",
    "    with open(output_file, \"r\") as infile:\n",
    "        coordinates=infile.readlines()\n",
    "\n",
    "    with open(output_file, \"w\") as outfile:\n",
    "        for line in coordinates:\n",
    "            lat,lon=line.strip().split(\",\")\n",
    "            outfile.write(f\"Latitude:{lat}, Longitude:{lon} \\n\")\n",
    "    print(f\"coordinates have been written to {output_file}\")\n",
    "except FileNotFoundError:\n",
    "    print(f\"Error: The file {input_file} was not found.\")\n"
   ]
  },
  {
   "cell_type": "code",
   "execution_count": null,
   "id": "7b61cfa3-0886-45d6-81f6-dc28369b5c22",
   "metadata": {},
   "outputs": [],
   "source": []
  }
 ],
 "metadata": {
  "kernelspec": {
   "display_name": "Python 3 (ipykernel)",
   "language": "python",
   "name": "python3"
  },
  "language_info": {
   "codemirror_mode": {
    "name": "ipython",
    "version": 3
   },
   "file_extension": ".py",
   "mimetype": "text/x-python",
   "name": "python",
   "nbconvert_exporter": "python",
   "pygments_lexer": "ipython3",
   "version": "3.10.12"
  }
 },
 "nbformat": 4,
 "nbformat_minor": 5
}
