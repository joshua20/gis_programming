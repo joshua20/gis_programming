{
 "cells": [
  {
   "cell_type": "markdown",
   "id": "ce27c7cb-acb6-4da5-8186-55d7a19032a7",
   "metadata": {},
   "source": [
    "FUNCTIONS"
   ]
  },
  {
   "cell_type": "code",
   "execution_count": 1,
   "id": "ba5f9e54-e20d-4990-bed9-32623e66e1fb",
   "metadata": {},
   "outputs": [
    {
     "name": "stdout",
     "output_type": "stream",
     "text": [
      "Distance : 8815.47 km\n"
     ]
    }
   ],
   "source": [
    "from math import radians,sin,cos,sqrt,atan2\n",
    "\n",
    "def haversine(lat1,lon1,lat2,lon2):\n",
    "    R=6371.0 #earth radius in kilometres\n",
    "    dlat=radians(lat2-lat1)\n",
    "    dlon=radians(lon2-lon1)\n",
    "    a=(\n",
    "        sin(dlat / 2) **2 +\n",
    "        cos(radians(lat1)) * cos(radians(lat2)) *sin(dlon /2) **2 \n",
    "    )\n",
    "    c=2 * atan2(sqrt(a), sqrt(1-a))\n",
    "    distance=R*c\n",
    "    return distance\n",
    "\n",
    "\n",
    "distance=haversine(35.6895, 139.6917, 34.0522, -118.2437)\n",
    "print(f\"Distance : {distance:.2f} km\")"
   ]
  },
  {
   "cell_type": "code",
   "execution_count": 2,
   "id": "91c339b2-d35a-4e5a-a143-931a8fc48b19",
   "metadata": {},
   "outputs": [
    {
     "name": "stdout",
     "output_type": "stream",
     "text": [
      "Jogoo road is 4.73 km lomg\n"
     ]
    }
   ],
   "source": [
    "points=haversine(-1.291829, 36.841125, -1.296344, 36.883449)\n",
    "print(f\"Jogoo road is {points:.2f} km lomg\")"
   ]
  },
  {
   "cell_type": "code",
   "execution_count": null,
   "id": "18d1de5f-fad9-4cff-849f-f18f6f8f99d4",
   "metadata": {},
   "outputs": [],
   "source": []
  }
 ],
 "metadata": {
  "kernelspec": {
   "display_name": "Python 3 (ipykernel)",
   "language": "python",
   "name": "python3"
  },
  "language_info": {
   "codemirror_mode": {
    "name": "ipython",
    "version": 3
   },
   "file_extension": ".py",
   "mimetype": "text/x-python",
   "name": "python",
   "nbconvert_exporter": "python",
   "pygments_lexer": "ipython3",
   "version": "3.10.12"
  }
 },
 "nbformat": 4,
 "nbformat_minor": 5
}
