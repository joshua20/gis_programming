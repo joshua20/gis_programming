{
 "cells": [
  {
   "cell_type": "markdown",
   "id": "9f067932-d560-434c-be9c-9c481d26c437",
   "metadata": {},
   "source": [
    "STRINGS"
   ]
  },
  {
   "cell_type": "code",
   "execution_count": 1,
   "id": "8d5bedab-85dc-4ea7-b129-1cf6670e8c35",
   "metadata": {},
   "outputs": [
    {
     "data": {
      "text/plain": [
       "'Mount Kenya'"
      ]
     },
     "execution_count": 1,
     "metadata": {},
     "output_type": "execute_result"
    }
   ],
   "source": [
    "location =\"Mount Kenya\"\n",
    "location"
   ]
  },
  {
   "cell_type": "code",
   "execution_count": 2,
   "id": "5ed41391-691c-4fdb-87de-249367cf8be4",
   "metadata": {},
   "outputs": [
    {
     "data": {
      "text/plain": [
       "'Mount Kenya, Kenya'"
      ]
     },
     "execution_count": 2,
     "metadata": {},
     "output_type": "execute_result"
    }
   ],
   "source": [
    "full_location= location + \", Kenya\"\n",
    "full_location"
   ]
  },
  {
   "cell_type": "markdown",
   "id": "11e5c731-64cc-4823-9520-ea23e50e742c",
   "metadata": {},
   "source": [
    "repeating string"
   ]
  },
  {
   "cell_type": "code",
   "execution_count": 5,
   "id": "21676c48-c208-4463-bda1-60e9353487f7",
   "metadata": {},
   "outputs": [
    {
     "data": {
      "text/plain": [
       "'joshua joshua joshua joshua joshua joshua joshua joshua joshua joshua '"
      ]
     },
     "execution_count": 5,
     "metadata": {},
     "output_type": "execute_result"
    }
   ],
   "source": [
    "word=\"joshua \"\n",
    "repeat_word=word *10\n",
    "repeat_word"
   ]
  },
  {
   "cell_type": "code",
   "execution_count": 6,
   "id": "f8d59baf-f063-487e-a37f-27e6f9d6dd71",
   "metadata": {},
   "outputs": [
    {
     "data": {
      "text/plain": [
       "'JOSHUA '"
      ]
     },
     "execution_count": 6,
     "metadata": {},
     "output_type": "execute_result"
    }
   ],
   "source": [
    "word.upper()"
   ]
  },
  {
   "cell_type": "code",
   "execution_count": 8,
   "id": "c082139e-ddda-4ea4-9510-b6fc9d5bac50",
   "metadata": {},
   "outputs": [
    {
     "data": {
      "text/plain": [
       "'JOSHUA JOSHUA JOSHUA JOSHUA JOSHUA JOSHUA JOSHUA JOSHUA JOSHUA JOSHUA '"
      ]
     },
     "execution_count": 8,
     "metadata": {},
     "output_type": "execute_result"
    }
   ],
   "source": [
    "repeat_word.upper()"
   ]
  },
  {
   "cell_type": "code",
   "execution_count": 10,
   "id": "e2393468-4c16-41e9-a1cd-d5fac17d1953",
   "metadata": {},
   "outputs": [
    {
     "data": {
      "text/plain": [
       "'Mount KE'"
      ]
     },
     "execution_count": 10,
     "metadata": {},
     "output_type": "execute_result"
    }
   ],
   "source": [
    "location.replace(\"Kenya\",\"KE\")"
   ]
  },
  {
   "cell_type": "code",
   "execution_count": 11,
   "id": "5c71438b-426c-4d94-989f-a0163b240404",
   "metadata": {},
   "outputs": [
    {
     "data": {
      "text/plain": [
       "'joshua joshua joshua joshua joshua joshua joshua joshua joshua joshua'"
      ]
     },
     "execution_count": 11,
     "metadata": {},
     "output_type": "execute_result"
    }
   ],
   "source": [
    "repeat_word.strip()"
   ]
  },
  {
   "cell_type": "code",
   "execution_count": 13,
   "id": "1fbd3cf7-0435-47a6-945a-508071c2e9fe",
   "metadata": {},
   "outputs": [
    {
     "data": {
      "text/plain": [
       "['joshua',\n",
       " 'joshua',\n",
       " 'joshua',\n",
       " 'joshua',\n",
       " 'joshua',\n",
       " 'joshua',\n",
       " 'joshua',\n",
       " 'joshua',\n",
       " 'joshua',\n",
       " 'joshua',\n",
       " '']"
      ]
     },
     "execution_count": 13,
     "metadata": {},
     "output_type": "execute_result"
    }
   ],
   "source": [
    "repeat_word.split(\" \")"
   ]
  },
  {
   "cell_type": "markdown",
   "id": "398c0f05-28a8-4086-bf5e-390630caf91f",
   "metadata": {},
   "source": [
    "exercises "
   ]
  },
  {
   "cell_type": "code",
   "execution_count": 15,
   "id": "a9cef954-19b5-4014-864e-5c63d2a34c40",
   "metadata": {},
   "outputs": [],
   "source": [
    "city={\"name\":\"Nairobi\",\n",
    "      \"coordinates\":\"40.7128N, 74.0060W\"\n",
    "     }\n",
    "      "
   ]
  },
  {
   "cell_type": "code",
   "execution_count": 16,
   "id": "80ac4825-f55b-4c6e-a421-5ac0a7922fd4",
   "metadata": {},
   "outputs": [
    {
     "data": {
      "text/plain": [
       "'NAIROBI'"
      ]
     },
     "execution_count": 16,
     "metadata": {},
     "output_type": "execute_result"
    }
   ],
   "source": [
    "city[\"name\"].upper()"
   ]
  },
  {
   "cell_type": "code",
   "execution_count": 17,
   "id": "f2f27967-058f-4cba-b6da-3425a625512c",
   "metadata": {},
   "outputs": [
    {
     "data": {
      "text/plain": [
       "'nairobi'"
      ]
     },
     "execution_count": 17,
     "metadata": {},
     "output_type": "execute_result"
    }
   ],
   "source": [
    "city[\"name\"].lower()"
   ]
  },
  {
   "cell_type": "code",
   "execution_count": 22,
   "id": "40601f91-195e-4256-9250-38ff3481e9c1",
   "metadata": {},
   "outputs": [],
   "source": [
    "lat,lon=city[\"coordinates\"].split(\",\")"
   ]
  },
  {
   "cell_type": "code",
   "execution_count": 23,
   "id": "6a1c7659-d3ac-4371-9922-bd4ca74ed536",
   "metadata": {},
   "outputs": [
    {
     "data": {
      "text/plain": [
       "74.006"
      ]
     },
     "execution_count": 23,
     "metadata": {},
     "output_type": "execute_result"
    }
   ],
   "source": [
    "lon_float=float(lon[:-1])\n",
    "lon_float"
   ]
  },
  {
   "cell_type": "code",
   "execution_count": 24,
   "id": "4e6de060-faab-46d7-bd54-817f67383d1a",
   "metadata": {},
   "outputs": [
    {
     "data": {
      "text/plain": [
       "40.7128"
      ]
     },
     "execution_count": 24,
     "metadata": {},
     "output_type": "execute_result"
    }
   ],
   "source": [
    "lat_float=float(lat[:-1])\n",
    "lat_float"
   ]
  },
  {
   "cell_type": "code",
   "execution_count": 27,
   "id": "e7dde6ff-9fb1-4f89-91a1-7aff791c0000",
   "metadata": {},
   "outputs": [
    {
     "data": {
      "text/plain": [
       "'Nairobi City is the capital of Kenya, located on latitude 40.7128, and longititude 74.006'"
      ]
     },
     "execution_count": 27,
     "metadata": {},
     "output_type": "execute_result"
    }
   ],
   "source": [
    "city_formated=\"{} City is the capital of Kenya, located on latitude {}, and longititude {}\".format(city[\"name\"],lat_float,lon_float)\n",
    "city_formated"
   ]
  },
  {
   "cell_type": "code",
   "execution_count": 29,
   "id": "b2a68386-36ed-4354-b8c4-ba57e0df3734",
   "metadata": {},
   "outputs": [
    {
     "name": "stdout",
     "output_type": "stream",
     "text": [
      "Nairobi is the capital of Kenya, located on latitude 40.7128 and longititude 74.006\n"
     ]
    }
   ],
   "source": [
    "city_f=print(f'{city[\"name\"]} is the capital of Kenya, located on latitude {lat_float} and longititude {lon_float}')\n",
    "city_f             "
   ]
  },
  {
   "cell_type": "code",
   "execution_count": null,
   "id": "aa062791-eacf-4c93-8e93-b3b03c0e3913",
   "metadata": {},
   "outputs": [],
   "source": []
  }
 ],
 "metadata": {
  "kernelspec": {
   "display_name": "Python 3 (ipykernel)",
   "language": "python",
   "name": "python3"
  },
  "language_info": {
   "codemirror_mode": {
    "name": "ipython",
    "version": 3
   },
   "file_extension": ".py",
   "mimetype": "text/x-python",
   "name": "python",
   "nbconvert_exporter": "python",
   "pygments_lexer": "ipython3",
   "version": "3.10.12"
  }
 },
 "nbformat": 4,
 "nbformat_minor": 5
}
