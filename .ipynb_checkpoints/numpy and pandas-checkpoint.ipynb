{
 "cells": [
  {
   "cell_type": "markdown",
   "id": "456c64c6-bcff-4934-8fa6-ab7a414b0a64",
   "metadata": {},
   "source": [
    "INTRODUCTION TO NUMPY"
   ]
  },
  {
   "cell_type": "code",
   "execution_count": 1,
   "id": "d1185386-cfbc-4aaf-b800-1d2e6ab8b213",
   "metadata": {},
   "outputs": [],
   "source": [
    "import numpy as np"
   ]
  },
  {
   "cell_type": "code",
   "execution_count": 3,
   "id": "16e7881d-4bd1-4a8c-aabc-67f8ca84552c",
   "metadata": {},
   "outputs": [
    {
     "name": "stdout",
     "output_type": "stream",
     "text": [
      "1 D array: [1 2 3 4 5]\n"
     ]
    }
   ],
   "source": [
    "#creating a 1 dimensional array\n",
    "arr_1d=np.array([1,2,3,4,5])\n",
    "print(f\"1 D array: {arr_1d}\")"
   ]
  },
  {
   "cell_type": "code",
   "execution_count": 8,
   "id": "6e552b0d-d17a-4af5-953c-411f4275dd99",
   "metadata": {},
   "outputs": [
    {
     "data": {
      "text/plain": [
       "array([[2, 3, 4],\n",
       "       [5, 6, 7]])"
      ]
     },
     "execution_count": 8,
     "metadata": {},
     "output_type": "execute_result"
    }
   ],
   "source": [
    "#creating a 2 dimensinal array\n",
    "\n",
    "array_2d=np.array([\n",
    "    [2,3,4],\n",
    "    [5,6,7]\n",
    "])\n",
    "array_2d"
   ]
  },
  {
   "cell_type": "code",
   "execution_count": 13,
   "id": "28f9816a-45c5-46f3-ac47-c0521ed8fafc",
   "metadata": {},
   "outputs": [
    {
     "name": "stdout",
     "output_type": "stream",
     "text": [
      "Array of zeroes: [[0. 0. 0.]\n",
      " [0. 0. 0.]\n",
      " [0. 0. 0.]]\n"
     ]
    }
   ],
   "source": [
    "#creating an array of zeroes\n",
    "zeros=np.zeros((3, 3))\n",
    "print(f\"Array of zeroes: {zeros}\")"
   ]
  },
  {
   "cell_type": "code",
   "execution_count": null,
   "id": "6327d250-a131-446f-b3c0-c920edababc7",
   "metadata": {},
   "outputs": [],
   "source": []
  }
 ],
 "metadata": {
  "kernelspec": {
   "display_name": "Python 3 (ipykernel)",
   "language": "python",
   "name": "python3"
  },
  "language_info": {
   "codemirror_mode": {
    "name": "ipython",
    "version": 3
   },
   "file_extension": ".py",
   "mimetype": "text/x-python",
   "name": "python",
   "nbconvert_exporter": "python",
   "pygments_lexer": "ipython3",
   "version": "3.10.12"
  }
 },
 "nbformat": 4,
 "nbformat_minor": 5
}
