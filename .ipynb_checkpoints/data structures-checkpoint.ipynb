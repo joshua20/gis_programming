{
 "cells": [
  {
   "cell_type": "markdown",
   "id": "0071b0ca-7875-4775-809a-aaa2ccbca838",
   "metadata": {},
   "source": [
    "DATA STRUCTURES\n",
    "\n",
    "turples"
   ]
  },
  {
   "cell_type": "code",
   "execution_count": 1,
   "id": "f93f65de-66c4-4733-ac1b-2f13a51fac27",
   "metadata": {},
   "outputs": [],
   "source": [
    "point=( 35.6895,\n",
    "    139.6917,)"
   ]
  },
  {
   "cell_type": "code",
   "execution_count": 2,
   "id": "46aaf16f-08d3-4a94-8170-b7b17d2c4bd7",
   "metadata": {},
   "outputs": [
    {
     "name": "stdout",
     "output_type": "stream",
     "text": [
      "latitude: 35.6895 and longitude:139.6917\n"
     ]
    }
   ],
   "source": [
    "latitude=point[0]\n",
    "longitude=point[1]\n",
    "\n",
    "print(f\"latitude: {latitude} and longitude:{longitude}\")"
   ]
  },
  {
   "cell_type": "markdown",
   "id": "f4cbad18-8f3b-4b85-bfdc-873a1cd8b24a",
   "metadata": {},
   "source": [
    "LISTS"
   ]
  },
  {
   "cell_type": "code",
   "execution_count": 3,
   "id": "f2d70ae9-cc03-46cf-b01a-0b74082190bd",
   "metadata": {},
   "outputs": [],
   "source": [
    "path=[\n",
    "    (35.6895, 139.6917),\n",
    "    (34.0522, -118.2437),\n",
    "    (51.5074, -0.1278),\n",
    "]"
   ]
  },
  {
   "cell_type": "code",
   "execution_count": 4,
   "id": "94991704-f0d3-4a8e-8da6-93790974920c",
   "metadata": {},
   "outputs": [],
   "source": [
    "path.append((48.8566, 2.3522))"
   ]
  },
  {
   "cell_type": "code",
   "execution_count": 5,
   "id": "912ad474-fed3-470e-a38f-8a9cc96130f8",
   "metadata": {},
   "outputs": [
    {
     "name": "stdout",
     "output_type": "stream",
     "text": [
      "updated paths: [(35.6895, 139.6917), (34.0522, -118.2437), (51.5074, -0.1278), (48.8566, 2.3522)]\n"
     ]
    }
   ],
   "source": [
    "print(f\"updated paths: {path}\")"
   ]
  },
  {
   "cell_type": "code",
   "execution_count": 6,
   "id": "a5b2553c-4ce5-4d50-a3c9-f5f9dbc15dda",
   "metadata": {},
   "outputs": [
    {
     "data": {
      "text/plain": [
       "[(35.6895, 139.6917), (34.0522, -118.2437)]"
      ]
     },
     "execution_count": 6,
     "metadata": {},
     "output_type": "execute_result"
    }
   ],
   "source": [
    "sub_path=path[:2]\n",
    "sub_path"
   ]
  },
  {
   "cell_type": "code",
   "execution_count": 8,
   "id": "b74ec118-ebd7-4b02-ac65-a153109d8049",
   "metadata": {},
   "outputs": [
    {
     "data": {
      "text/plain": [
       "[(35.6895, 139.6917),\n",
       " (34.0522, -118.2437),\n",
       " (51.5074, -0.1278),\n",
       " (48.8566, 2.3522)]"
      ]
     },
     "execution_count": 8,
     "metadata": {},
     "output_type": "execute_result"
    }
   ],
   "source": [
    "full_path=path[:]\n",
    "full_path"
   ]
  },
  {
   "cell_type": "markdown",
   "id": "a2d0e196-cab5-4d65-9fff-870c1bd72dd9",
   "metadata": {},
   "source": [
    "SETS"
   ]
  },
  {
   "cell_type": "code",
   "execution_count": 9,
   "id": "e27342a2-68be-48ac-bf92-b9b3180c4588",
   "metadata": {},
   "outputs": [
    {
     "ename": "NameError",
     "evalue": "name 'regions' is not defined",
     "output_type": "error",
     "traceback": [
      "\u001b[0;31m---------------------------------------------------------------------------\u001b[0m",
      "\u001b[0;31mNameError\u001b[0m                                 Traceback (most recent call last)",
      "Cell \u001b[0;32mIn[9], line 2\u001b[0m\n\u001b[1;32m      1\u001b[0m region\u001b[38;5;241m=\u001b[39m[\u001b[38;5;124m\"\u001b[39m\u001b[38;5;124msiaya\u001b[39m\u001b[38;5;124m\"\u001b[39m,\u001b[38;5;124m\"\u001b[39m\u001b[38;5;124mkisii\u001b[39m\u001b[38;5;124m\"\u001b[39m,\u001b[38;5;124m\"\u001b[39m\u001b[38;5;124mnairobi\u001b[39m\u001b[38;5;124m\"\u001b[39m,\u001b[38;5;124m\"\u001b[39m\u001b[38;5;124mUAsin Gishu\u001b[39m\u001b[38;5;124m\"\u001b[39m]\n\u001b[0;32m----> 2\u001b[0m set_region\u001b[38;5;241m=\u001b[39m\u001b[38;5;28mset\u001b[39m(\u001b[43mregions\u001b[49m)\n\u001b[1;32m      3\u001b[0m set_region\n",
      "\u001b[0;31mNameError\u001b[0m: name 'regions' is not defined"
     ]
    }
   ],
   "source": [
    "regions=[\"siaya\",\"kisii\",\"nairobi\",\"UAsin Gishu\"]\n",
    "set_region=set(regions)\n",
    "set_region"
   ]
  },
  {
   "cell_type": "code",
   "execution_count": null,
   "id": "68651797-ffef-4b48-bf62-b343d977fb46",
   "metadata": {},
   "outputs": [],
   "source": []
  }
 ],
 "metadata": {
  "kernelspec": {
   "display_name": "Python 3 (ipykernel)",
   "language": "python",
   "name": "python3"
  },
  "language_info": {
   "codemirror_mode": {
    "name": "ipython",
    "version": 3
   },
   "file_extension": ".py",
   "mimetype": "text/x-python",
   "name": "python",
   "nbconvert_exporter": "python",
   "pygments_lexer": "ipython3",
   "version": "3.10.12"
  }
 },
 "nbformat": 4,
 "nbformat_minor": 5
}
