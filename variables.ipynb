{
 "cells": [
  {
   "cell_type": "code",
   "execution_count": 1,
   "id": "257b9fb4-5c6d-4159-b3a4-6dddef1a91cf",
   "metadata": {},
   "outputs": [
    {
     "name": "stdout",
     "output_type": "stream",
     "text": [
      "this is python\n"
     ]
    }
   ],
   "source": [
    "print(\"this is python\")"
   ]
  },
  {
   "cell_type": "markdown",
   "id": "371bddd0-89c8-4ab9-a4c8-90e5fa2abe22",
   "metadata": {},
   "source": [
    "variables\n"
   ]
  },
  {
   "cell_type": "code",
   "execution_count": 2,
   "id": "58f1af9d-6f70-4d5c-864a-e1caf1feb82a",
   "metadata": {},
   "outputs": [
    {
     "data": {
      "text/plain": [
       "120"
      ]
     },
     "execution_count": 2,
     "metadata": {},
     "output_type": "execute_result"
    }
   ],
   "source": [
    "num_points=120\n",
    "\n",
    "num_points"
   ]
  },
  {
   "cell_type": "markdown",
   "id": "9eea7d60-4a0e-43c8-9923-dff2d3765a18",
   "metadata": {},
   "source": [
    "working with Variables"
   ]
  },
  {
   "cell_type": "code",
   "execution_count": 3,
   "id": "d40ca75d-47ea-4b69-9a39-db0d017d8328",
   "metadata": {},
   "outputs": [
    {
     "name": "stdout",
     "output_type": "stream",
     "text": [
      "updated number of feature:  520\n"
     ]
    }
   ],
   "source": [
    "num_features=500\n",
    "num_features+=20\n",
    "print (\"updated number of feature: \", num_features)"
   ]
  },
  {
   "cell_type": "code",
   "execution_count": 5,
   "id": "ee10130b-28d7-406a-8ffe-2a0665b47e9d",
   "metadata": {},
   "outputs": [
    {
     "name": "stdout",
     "output_type": "stream",
     "text": [
      "latitude in radians:  0.6228992833905163\n"
     ]
    }
   ],
   "source": [
    "import math\n",
    "latitude=35.6895\n",
    "latitude_radians=math.radians(latitude)\n",
    "print(\"latitude in radians: \" , latitude_radians)"
   ]
  },
  {
   "cell_type": "code",
   "execution_count": 6,
   "id": "5a81c021-e4d1-4f7a-a1e4-5dcba29ae3e8",
   "metadata": {},
   "outputs": [
    {
     "name": "stdout",
     "output_type": "stream",
     "text": [
      "updated coordinates  [35, 6895, 139.6917, 34.0522, -118.2437]\n"
     ]
    }
   ],
   "source": [
    "coordinates=[35,6895,139.6917]\n",
    "coordinates.append(34.0522)\n",
    "coordinates.append(-118.2437)\n",
    "\n",
    "print(\"updated coordinates \", coordinates)\n"
   ]
  },
  {
   "cell_type": "markdown",
   "id": "90c71a12-c4bb-4e76-98c2-358ecc28b4c6",
   "metadata": {},
   "source": [
    "accessing dictionary elements"
   ]
  },
  {
   "cell_type": "code",
   "execution_count": 7,
   "id": "ba2d338a-6fb3-4d60-818a-c5885900d4a7",
   "metadata": {},
   "outputs": [
    {
     "name": "stdout",
     "output_type": "stream",
     "text": [
      "mout Fuji is 2300 metres high\n"
     ]
    }
   ],
   "source": [
    "mount_fuji={\n",
    "    'name':\"mout Fuji\",\n",
    "    'height_metres':2300,\n",
    "    \n",
    "}\n",
    "mount_fuji_name=mount_fuji['name']\n",
    "mount_fuji_height=mount_fuji['height_metres']\n",
    "print(f\"{mount_fuji_name} is {mount_fuji_height} metres high\")"
   ]
  },
  {
   "cell_type": "markdown",
   "id": "85f564db-eed8-436d-b461-faafa3c5d95f",
   "metadata": {},
   "source": [
    "APPLICATION OF VARIABLES IN GEOSPATIAL CONTEXT"
   ]
  },
  {
   "cell_type": "code",
   "execution_count": 9,
   "id": "a8849d69-eb10-4215-88ce-92bc3a344122",
   "metadata": {},
   "outputs": [
    {
     "name": "stdout",
     "output_type": "stream",
     "text": [
      "centroid of the points is  [42.526425, 5.918099999999998]\n"
     ]
    }
   ],
   "source": [
    "points=[\n",
    "    [35.6895,139.6917], #tokyo\n",
    "    [34.0522,-118.2437], #Los Angeles\n",
    "    [51.5074,-0.1278], #London\n",
    "    [48.8566,2.3522], #paris\n",
    "]\n",
    "\n",
    "centroid_lat= sum([point[0] for point in points])/len(points)\n",
    "centroid_lon=sum([point[1] for point in points])/len(points)\n",
    "centroid=[centroid_lat,centroid_lon]\n",
    "print(\"centroid of the points is \", centroid)"
   ]
  }
 ],
 "metadata": {
  "kernelspec": {
   "display_name": "Python 3 (ipykernel)",
   "language": "python",
   "name": "python3"
  },
  "language_info": {
   "codemirror_mode": {
    "name": "ipython",
    "version": 3
   },
   "file_extension": ".py",
   "mimetype": "text/x-python",
   "name": "python",
   "nbconvert_exporter": "python",
   "pygments_lexer": "ipython3",
   "version": "3.10.12"
  }
 },
 "nbformat": 4,
 "nbformat_minor": 5
}
